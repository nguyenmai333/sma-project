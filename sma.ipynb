{
 "cells": [
  {
   "cell_type": "markdown",
   "id": "e7fbf48a",
   "metadata": {},
   "source": [
    "### Load Data"
   ]
  },
  {
   "cell_type": "code",
   "execution_count": 1,
   "id": "9e73c04a",
   "metadata": {},
   "outputs": [],
   "source": [
    "import pandas as pd\n",
    "from matplotlib import pyplot as plt\n",
    "import seaborn as sns\n",
    "import numpy as np\n"
   ]
  },
  {
   "cell_type": "code",
   "execution_count": 2,
   "id": "415521a6",
   "metadata": {},
   "outputs": [
    {
     "data": {
      "text/plain": [
       "['test.csv', 'train.csv']"
      ]
     },
     "execution_count": 2,
     "metadata": {},
     "output_type": "execute_result"
    }
   ],
   "source": [
    "import os\n",
    "path = 'data'\n",
    "os.listdir(path)"
   ]
  },
  {
   "cell_type": "code",
   "execution_count": 3,
   "id": "9b92c6df",
   "metadata": {},
   "outputs": [
    {
     "name": "stdout",
     "output_type": "stream",
     "text": [
      "   2                                           Great CD  \\\n",
      "0  2  One of the best game music soundtracks - for a...   \n",
      "1  1                   Batteries died within a year ...   \n",
      "2  2              works fine, but Maha Energy is better   \n",
      "3  2                       Great for the non-audiophile   \n",
      "4  1              DVD Player crapped out after one year   \n",
      "\n",
      "  My lovely Pat has one of the GREAT voices of her generation. I have listened to this CD for YEARS and I still LOVE IT. When I'm in a good mood it makes me feel better. A bad mood just evaporates like sugar in the rain. This CD just oozes LIFE. Vocals are jusat STUUNNING and lyrics just kill. One of life's hidden gems. This is a desert isle CD in my book. Why she never made it big is just beyond me. Everytime I play this, no matter black, white, young, old, male, female EVERYBODY says one thing \"Who was that singing ?\"  \n",
      "0  Despite the fact that I have only played a sma...                                                                                                                                                                                                                                                                                                                                                                                                                                                                                           \n",
      "1  I bought this charger in Jul 2003 and it worke...                                                                                                                                                                                                                                                                                                                                                                                                                                                                                           \n",
      "2  Check out Maha Energy's website. Their Powerex...                                                                                                                                                                                                                                                                                                                                                                                                                                                                                           \n",
      "3  Reviewed quite a bit of the combo players and ...                                                                                                                                                                                                                                                                                                                                                                                                                                                                                           \n",
      "4  I also began having the incorrect disc problem...                                                                                                                                                                                                                                                                                                                                                                                                                                                                                           \n",
      "   2                     Stuning even for the non-gamer  \\\n",
      "0  2              The best soundtrack ever to anything.   \n",
      "1  2                                           Amazing!   \n",
      "2  2                               Excellent Soundtrack   \n",
      "3  2  Remember, Pull Your Jaw Off The Floor After He...   \n",
      "4  2                            an absolute masterpiece   \n",
      "\n",
      "  This sound track was beautiful! It paints the senery in your mind so well I would recomend it even to people who hate vid. game music! I have played the game Chrono Cross but out of all of the games I have ever played it has the best music! It backs away from crude keyboarding and takes a fresher step with grate guitars and soulful orchestras. It would impress anyone who cares to listen! ^_^  \n",
      "0  I'm reading a lot of reviews saying that this ...                                                                                                                                                                                                                                                                                                                                                          \n",
      "1  This soundtrack is my favorite music of all ti...                                                                                                                                                                                                                                                                                                                                                          \n",
      "2  I truly like this soundtrack and I enjoy video...                                                                                                                                                                                                                                                                                                                                                          \n",
      "3  If you've played the game, you know how divine...                                                                                                                                                                                                                                                                                                                                                          \n",
      "4  I am quite sure any of you actually taking the...                                                                                                                                                                                                                                                                                                                                                          \n"
     ]
    }
   ],
   "source": [
    "test_df = pd.read_csv(os.path.join(path, 'test.csv'))\n",
    "train_df = pd.read_csv(os.path.join(path, 'train.csv'))\n",
    "# fast look at data\n",
    "print(test_df.head())\n",
    "print(train_df.head())"
   ]
  },
  {
   "cell_type": "code",
   "execution_count": 4,
   "id": "481311dc",
   "metadata": {},
   "outputs": [],
   "source": [
    "# make correct column names\n",
    "columns_name = ['polarity', 'title', 'text']\n",
    "train_df.columns = columns_name\n",
    "test_df.columns = columns_name\n"
   ]
  },
  {
   "cell_type": "markdown",
   "id": "cb67f1fd",
   "metadata": {},
   "source": [
    "### EDA"
   ]
  },
  {
   "cell_type": "code",
   "execution_count": 5,
   "id": "4adddfce",
   "metadata": {},
   "outputs": [
    {
     "name": "stdout",
     "output_type": "stream",
     "text": [
      "Train dataset info:\n",
      "<class 'pandas.core.frame.DataFrame'>\n",
      "RangeIndex: 3599999 entries, 0 to 3599998\n",
      "Data columns (total 3 columns):\n",
      " #   Column    Dtype \n",
      "---  ------    ----- \n",
      " 0   polarity  int64 \n",
      " 1   title     object\n",
      " 2   text      object\n",
      "dtypes: int64(1), object(2)\n",
      "memory usage: 82.4+ MB\n",
      "None\n",
      "\n",
      "Test dataset info:\n",
      "<class 'pandas.core.frame.DataFrame'>\n",
      "RangeIndex: 399999 entries, 0 to 399998\n",
      "Data columns (total 3 columns):\n",
      " #   Column    Non-Null Count   Dtype \n",
      "---  ------    --------------   ----- \n",
      " 0   polarity  399999 non-null  int64 \n",
      " 1   title     399975 non-null  object\n",
      " 2   text      399999 non-null  object\n",
      "dtypes: int64(1), object(2)\n",
      "memory usage: 9.2+ MB\n",
      "None\n"
     ]
    }
   ],
   "source": [
    "# fast look at data\n",
    "print(\"Train dataset info:\")\n",
    "print(train_df.info())\n",
    "print(\"\\nTest dataset info:\")\n",
    "print(test_df.info())\n",
    "\n"
   ]
  },
  {
   "cell_type": "code",
   "execution_count": 6,
   "id": "0dc3c950",
   "metadata": {},
   "outputs": [
    {
     "name": "stdout",
     "output_type": "stream",
     "text": [
      "\n",
      "Missing values in train dataset:\n",
      "polarity      0\n",
      "title       207\n",
      "text          0\n",
      "dtype: int64\n",
      "\n",
      "Missing values in test dataset:\n",
      "polarity     0\n",
      "title       24\n",
      "text         0\n",
      "dtype: int64\n"
     ]
    }
   ],
   "source": [
    "# check missing values\n",
    "print(\"\\nMissing values in train dataset:\")\n",
    "print(train_df.isnull().sum())\n",
    "print(\"\\nMissing values in test dataset:\") \n",
    "print(test_df.isnull().sum())"
   ]
  },
  {
   "cell_type": "code",
   "execution_count": 7,
   "id": "8dba6cb9",
   "metadata": {},
   "outputs": [],
   "source": [
    "# null data should be == \"\" \n",
    "train_df['title'] = train_df['title'].fillna(\"\")\n",
    "train_df['text'] = train_df['text'].fillna(\"\")\n",
    "test_df['title'] = test_df['title'].fillna(\"\")\n",
    "test_df['text'] = test_df['text'].fillna(\"\")"
   ]
  },
  {
   "cell_type": "code",
   "execution_count": 8,
   "id": "38422a33",
   "metadata": {},
   "outputs": [
    {
     "data": {
      "image/png": "[encoded data removed]",
      "text/plain": [
       "<Figure size 800x600 with 1 Axes>"
      ]
     },
     "metadata": {},
     "output_type": "display_data"
    },
    {
     "data": {
      "image/png": "[encoded data removed]",
      "text/plain": [
       "<Figure size 1200x400 with 2 Axes>"
      ]
     },
     "metadata": {},
     "output_type": "display_data"
    },
    {
     "name": "stdout",
     "output_type": "stream",
     "text": [
      "\n",
      "Summary statistics for text lengths:\n",
      "       title_length   text_length\n",
      "count  3.599999e+06  3.599999e+06\n",
      "mean   2.450652e+01  4.051396e+02\n",
      "std    1.401689e+01  2.342711e+02\n",
      "min    0.000000e+00  4.000000e+00\n",
      "25%    1.400000e+01  2.070000e+02\n",
      "50%    2.100000e+01  3.560000e+02\n",
      "75%    3.200000e+01  5.660000e+02\n",
      "max    1.390000e+02  1.010000e+03\n"
     ]
    }
   ],
   "source": [
    "plt.figure(figsize=(8,6))\n",
    "train_df['polarity'].value_counts().plot(kind='bar')\n",
    "plt.title('Distribution of Polarities in Training Set')\n",
    "plt.xlabel('Polarity')\n",
    "plt.ylabel('Count')\n",
    "plt.show()\n",
    "\n",
    "train_df['title_length'] = train_df['title'].str.len()\n",
    "train_df['text_length'] = train_df['text'].str.len()\n",
    "\n",
    "plt.figure(figsize=(12,4))\n",
    "plt.subplot(1,2,1)\n",
    "sns.boxplot(x='polarity', y='title_length', data=train_df)\n",
    "plt.title('Title Length by Polarity')\n",
    "\n",
    "plt.subplot(1,2,2)\n",
    "sns.boxplot(x='polarity', y='text_length', data=train_df)\n",
    "plt.title('Text Length by Polarity')\n",
    "plt.tight_layout()\n",
    "plt.show()\n",
    "\n",
    "# Summary statistics\n",
    "print(\"\\nSummary statistics for text lengths:\")\n",
    "print(train_df[['title_length', 'text_length']].describe())"
   ]
  },
  {
   "cell_type": "markdown",
   "id": "8ccf5c8c",
   "metadata": {},
   "source": [
    "### Data Preprocessing"
   ]
  },
  {
   "cell_type": "code",
   "execution_count": 9,
   "id": "f20c3a5b",
   "metadata": {},
   "outputs": [
    {
     "name": "stdout",
     "output_type": "stream",
     "text": [
      "New training dataset size: 10000\n",
      "\n",
      "New polarity distribution:\n",
      "polarity\n",
      "1    5024\n",
      "2    4976\n",
      "Name: count, dtype: int64\n"
     ]
    }
   ],
   "source": [
    "# Resample data to 20000 samples\n",
    "sample_size = 10000\n",
    "train_df = train_df.sample(n=sample_size, random_state=42)\n",
    "\n",
    "print(f\"New training dataset size: {len(train_df)}\")\n",
    "print(\"\\nNew polarity distribution:\")\n",
    "print(train_df['polarity'].value_counts())\n"
   ]
  },
  {
   "cell_type": "code",
   "execution_count": 10,
   "id": "e80f039c",
   "metadata": {},
   "outputs": [
    {
     "name": "stdout",
     "output_type": "stream",
     "text": [
      "3493923    Very disappointed My son got this toy for his ...\n",
      "2472516    Doesn't help with cats or dogs! A person I wor...\n",
      "2110064    Don't waste your money on this DVD This DVD is...\n",
      "2762210    EZEKIEL 13 Mr. Spong has attempted to reduce G...\n",
      "1438189    Won't fit your case. I am the fourth review an...\n",
      "Name: combined, dtype: object\n",
      "0    One of the best game music soundtracks - for a...\n",
      "1    Batteries died within a year ... I bought this...\n",
      "2    works fine, but Maha Energy is better Check ou...\n",
      "3    Great for the non-audiophile Reviewed quite a ...\n",
      "4    DVD Player crapped out after one year I also b...\n",
      "Name: combined, dtype: object\n"
     ]
    }
   ],
   "source": [
    "# create a combine title and text\n",
    "train_df['combined'] = train_df['title'] + \" \" + train_df['text']\n",
    "test_df['combined'] = test_df['title'] + \" \" + test_df['text']\n",
    "print(train_df['combined'].head())\n",
    "print(test_df['combined'].head())"
   ]
  },
  {
   "cell_type": "code",
   "execution_count": 11,
   "id": "9e51edd3",
   "metadata": {},
   "outputs": [
    {
     "name": "stderr",
     "output_type": "stream",
     "text": [
      "d:\\Programs\\miniconda\\envs\\sma\\lib\\site-packages\\tqdm\\auto.py:21: TqdmWarning: IProgress not found. Please update jupyter and ipywidgets. See https://ipywidgets.readthedocs.io/en/stable/user_install.html\n",
      "  from .autonotebook import tqdm as notebook_tqdm\n"
     ]
    }
   ],
   "source": [
    "from torch.utils.data import Dataset\n",
    "import torch \n",
    "from transformers import AutoTokenizer\n",
    "tokenizer = AutoTokenizer.from_pretrained(\"bert-base-uncased\")\n",
    "max_len = 512 \n",
    "# create a dataset class\n",
    "class SMA_Dataset(Dataset):\n",
    "    def __init__(self, df, tokenizer, max_len):\n",
    "        self.df = df\n",
    "        self.tokenizer = tokenizer\n",
    "        self.max_len = max_len  \n",
    "\n",
    "    def __len__(self):\n",
    "        return len(self.df)\n",
    "\n",
    "    def __getitem__(self, item):\n",
    "        text = self.df.iloc[item]['combined']\n",
    "        polarity = self.df.iloc[item]['polarity']\n",
    "        \n",
    "        inputs = self.tokenizer.encode_plus(\n",
    "            text,\n",
    "            add_special_tokens=True,\n",
    "            max_length=self.max_len,\n",
    "            return_token_type_ids=True,\n",
    "            return_attention_mask=True,\n",
    "            padding='max_length',\n",
    "            truncation=True\n",
    "        )\n",
    "        \n",
    "        return {\n",
    "            'input_ids': torch.tensor(inputs['input_ids'], dtype=torch.long),\n",
    "            'attention_mask': torch.tensor(inputs['attention_mask'], dtype=torch.long),\n",
    "            'polarity': torch.tensor(polarity, dtype=torch.float)  # Adjust dtype as needed\n",
    "        }"
   ]
  },
  {
   "cell_type": "code",
   "execution_count": 12,
   "id": "e7ff5e3e",
   "metadata": {},
   "outputs": [],
   "source": [
    "from torch.utils.data import DataLoader\n",
    "\n",
    "batch_size = 16\n",
    "train_dataset = SMA_Dataset(train_df, tokenizer, max_len)\n",
    "test_dataset = SMA_Dataset(test_df, tokenizer, max_len)"
   ]
  },
  {
   "cell_type": "code",
   "execution_count": 17,
   "id": "c8f0c42e",
   "metadata": {},
   "outputs": [],
   "source": [
    "train_dataloader = DataLoader(train_dataset, batch_size=batch_size, shuffle=True)\n",
    "test_dataloader = DataLoader(test_dataset, batch_size=batch_size, shuffle=True)\n"
   ]
  },
  {
   "cell_type": "markdown",
   "id": "de9bbd60",
   "metadata": {},
   "source": [
    "### RNN Model initialization"
   ]
  },
  {
   "cell_type": "code",
   "execution_count": 28,
   "id": "ea1c3554",
   "metadata": {},
   "outputs": [],
   "source": [
    "import torch.nn as nn\n",
    "\n",
    "class RNNModel(nn.Module):\n",
    "    def __init__(self, input_size, hidden_size, output_size, num_layers):\n",
    "        super(RNNModel, self).__init__()\n",
    "        self.hidden_size = hidden_size\n",
    "        self.num_layers = num_layers\n",
    "        self.rnn = nn.RNN(input_size, hidden_size, num_layers, batch_first=True)\n",
    "        self.fc = nn.Linear(hidden_size, output_size)\n",
    "\n",
    "    def forward(self, x):\n",
    "        h0 = torch.zeros(self.num_layers, x.size(0), self.hidden_size).to(x.device)\n",
    "        out, _ = self.rnn(x, h0)\n",
    "        out = self.fc(out[:, -1, :])\n",
    "        return out\n",
    "        "
   ]
  },
  {
   "cell_type": "code",
   "execution_count": null,
   "id": "93277b23",
   "metadata": {},
   "outputs": [],
   "source": [
    "def train_rnn(model, train_dataloader, criterion, optimizer, num_epochs):\n",
    "    model.train()\n",
    "    for epoch in range(num_epochs):\n",
    "        for batch in train_dataloader:\n",
    "            input_ids = batch['input_ids']\n",
    "            labels = batch['polarity']\n",
    "            \n",
    "            input_ids = input_ids.view(-1, input_ids.size(1), param['input_size'])\n",
    "            \n",
    "            outputs = model(input_ids)\n",
    "            loss = criterion(outputs, labels)\n",
    "            \n",
    "            optimizer.zero_grad()\n",
    "            loss.backward()\n",
    "            optimizer.step()\n",
    "    return model\n"
   ]
  },
  {
   "cell_type": "code",
   "execution_count": null,
   "id": "644802e7",
   "metadata": {},
   "outputs": [],
   "source": [
    "### init parameters\n",
    "param = {\n",
    "    'input_size': 512,\n",
    "    'hidden_size': 128,\n",
    "    'output_size': 3,\n",
    "    'num_layers': 1\n",
    "}\n",
    "\n",
    "num_epochs = 10\n",
    "batch_size = 32\n",
    "\n",
    "model = RNNModel(**param)\n",
    "criterion = nn.CrossEntropyLoss()\n",
    "optimizer = torch.optim.Adam(model.parameters(), lr=0.001)"
   ]
  },
  {
   "cell_type": "code",
   "execution_count": 38,
   "id": "df239bc1",
   "metadata": {},
   "outputs": [
    {
     "ename": "RuntimeError",
     "evalue": "shape '[-1, 512, 512]' is invalid for input of size 16384",
     "output_type": "error",
     "traceback": [
      "\u001b[1;31m---------------------------------------------------------------------------\u001b[0m",
      "\u001b[1;31mRuntimeError\u001b[0m                              Traceback (most recent call last)",
      "Cell \u001b[1;32mIn[38], line 1\u001b[0m\n\u001b[1;32m----> 1\u001b[0m model \u001b[38;5;241m=\u001b[39m \u001b[43mtrain_rnn\u001b[49m\u001b[43m(\u001b[49m\u001b[43mmodel\u001b[49m\u001b[43m,\u001b[49m\u001b[43m \u001b[49m\u001b[43mtrain_dataloader\u001b[49m\u001b[43m,\u001b[49m\u001b[43m \u001b[49m\u001b[43mcriterion\u001b[49m\u001b[43m,\u001b[49m\u001b[43m \u001b[49m\u001b[43moptimizer\u001b[49m\u001b[43m,\u001b[49m\u001b[43m \u001b[49m\u001b[43mnum_epochs\u001b[49m\u001b[43m)\u001b[49m\n",
      "Cell \u001b[1;32mIn[36], line 9\u001b[0m, in \u001b[0;36mtrain_rnn\u001b[1;34m(model, train_dataloader, criterion, optimizer, num_epochs)\u001b[0m\n\u001b[0;32m      6\u001b[0m labels \u001b[38;5;241m=\u001b[39m batch[\u001b[38;5;124m'\u001b[39m\u001b[38;5;124mpolarity\u001b[39m\u001b[38;5;124m'\u001b[39m]\n\u001b[0;32m      8\u001b[0m \u001b[38;5;66;03m# Ensure input_ids is of shape (batch_size, seq_length, input_size)\u001b[39;00m\n\u001b[1;32m----> 9\u001b[0m input_ids \u001b[38;5;241m=\u001b[39m \u001b[43minput_ids\u001b[49m\u001b[38;5;241;43m.\u001b[39;49m\u001b[43mview\u001b[49m\u001b[43m(\u001b[49m\u001b[38;5;241;43m-\u001b[39;49m\u001b[38;5;241;43m1\u001b[39;49m\u001b[43m,\u001b[49m\u001b[43m \u001b[49m\u001b[43minput_ids\u001b[49m\u001b[38;5;241;43m.\u001b[39;49m\u001b[43msize\u001b[49m\u001b[43m(\u001b[49m\u001b[38;5;241;43m1\u001b[39;49m\u001b[43m)\u001b[49m\u001b[43m,\u001b[49m\u001b[43m \u001b[49m\u001b[43mparam\u001b[49m\u001b[43m[\u001b[49m\u001b[38;5;124;43m'\u001b[39;49m\u001b[38;5;124;43minput_size\u001b[39;49m\u001b[38;5;124;43m'\u001b[39;49m\u001b[43m]\u001b[49m\u001b[43m)\u001b[49m\n\u001b[0;32m     11\u001b[0m \u001b[38;5;66;03m# Forward pass\u001b[39;00m\n\u001b[0;32m     12\u001b[0m outputs \u001b[38;5;241m=\u001b[39m model(input_ids)\n",
      "\u001b[1;31mRuntimeError\u001b[0m: shape '[-1, 512, 512]' is invalid for input of size 16384"
     ]
    }
   ],
   "source": [
    "model = train_rnn(model, train_dataloader, criterion, optimizer, num_epochs)"
   ]
  },
  {
   "cell_type": "code",
   "execution_count": null,
   "id": "86256e78",
   "metadata": {},
   "outputs": [],
   "source": []
  }
 ],
 "metadata": {
  "kernelspec": {
   "display_name": "sma",
   "language": "python",
   "name": "python3"
  },
  "language_info": {
   "codemirror_mode": {
    "name": "ipython",
    "version": 3
   },
   "file_extension": ".py",
   "mimetype": "text/x-python",
   "name": "python",
   "nbconvert_exporter": "python",
   "pygments_lexer": "ipython3",
   "version": "3.9.20"
  }
 },
 "nbformat": 4,
 "nbformat_minor": 5
}
