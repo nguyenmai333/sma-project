{
 "cells": [
  {
   "cell_type": "markdown",
   "id": "c2db0f0f",
   "metadata": {},
   "source": [
    "# LAB 01 - SMA\n",
    "# ID: 21280047 \n",
    "# Name: Tran Mai Chi Tam"
   ]
  },
  {
   "cell_type": "markdown",
   "id": "e7fbf48a",
   "metadata": {},
   "source": [
    "### Load Data"
   ]
  },
  {
   "cell_type": "code",
   "execution_count": 1,
   "id": "9e73c04a",
   "metadata": {},
   "outputs": [],
   "source": [
    "import pandas as pd\n",
    "from matplotlib import pyplot as plt\n",
    "import seaborn as sns\n",
    "import numpy as np"
   ]
  },
  {
   "cell_type": "code",
   "execution_count": 2,
   "id": "415521a6",
   "metadata": {},
   "outputs": [
    {
     "data": {
      "text/plain": [
       "['know_voz_think.csv',\n",
       " 'predictions.csv',\n",
       " 'test.csv',\n",
       " 'train.csv',\n",
       " 'voz_complete_data.csv',\n",
       " 'voz_complete_data_with_predictions.csv']"
      ]
     },
     "execution_count": 2,
     "metadata": {},
     "output_type": "execute_result"
    }
   ],
   "source": [
    "import os\n",
    "path = 'data'\n",
    "os.listdir(path)"
   ]
  },
  {
   "cell_type": "code",
   "execution_count": 3,
   "id": "9b92c6df",
   "metadata": {},
   "outputs": [
    {
     "name": "stdout",
     "output_type": "stream",
     "text": [
      "   2                                           Great CD  \\\n",
      "0  2  One of the best game music soundtracks - for a...   \n",
      "1  1                   Batteries died within a year ...   \n",
      "2  2              works fine, but Maha Energy is better   \n",
      "3  2                       Great for the non-audiophile   \n",
      "4  1              DVD Player crapped out after one year   \n",
      "\n",
      "  My lovely Pat has one of the GREAT voices of her generation. I have listened to this CD for YEARS and I still LOVE IT. When I'm in a good mood it makes me feel better. A bad mood just evaporates like sugar in the rain. This CD just oozes LIFE. Vocals are jusat STUUNNING and lyrics just kill. One of life's hidden gems. This is a desert isle CD in my book. Why she never made it big is just beyond me. Everytime I play this, no matter black, white, young, old, male, female EVERYBODY says one thing \"Who was that singing ?\"  \n",
      "0  Despite the fact that I have only played a sma...                                                                                                                                                                                                                                                                                                                                                                                                                                                                                           \n",
      "1  I bought this charger in Jul 2003 and it worke...                                                                                                                                                                                                                                                                                                                                                                                                                                                                                           \n",
      "2  Check out Maha Energy's website. Their Powerex...                                                                                                                                                                                                                                                                                                                                                                                                                                                                                           \n",
      "3  Reviewed quite a bit of the combo players and ...                                                                                                                                                                                                                                                                                                                                                                                                                                                                                           \n",
      "4  I also began having the incorrect disc problem...                                                                                                                                                                                                                                                                                                                                                                                                                                                                                           \n",
      "   2                     Stuning even for the non-gamer  \\\n",
      "0  2              The best soundtrack ever to anything.   \n",
      "1  2                                           Amazing!   \n",
      "2  2                               Excellent Soundtrack   \n",
      "3  2  Remember, Pull Your Jaw Off The Floor After He...   \n",
      "4  2                            an absolute masterpiece   \n",
      "\n",
      "  This sound track was beautiful! It paints the senery in your mind so well I would recomend it even to people who hate vid. game music! I have played the game Chrono Cross but out of all of the games I have ever played it has the best music! It backs away from crude keyboarding and takes a fresher step with grate guitars and soulful orchestras. It would impress anyone who cares to listen! ^_^  \n",
      "0  I'm reading a lot of reviews saying that this ...                                                                                                                                                                                                                                                                                                                                                          \n",
      "1  This soundtrack is my favorite music of all ti...                                                                                                                                                                                                                                                                                                                                                          \n",
      "2  I truly like this soundtrack and I enjoy video...                                                                                                                                                                                                                                                                                                                                                          \n",
      "3  If you've played the game, you know how divine...                                                                                                                                                                                                                                                                                                                                                          \n",
      "4  I am quite sure any of you actually taking the...                                                                                                                                                                                                                                                                                                                                                          \n"
     ]
    }
   ],
   "source": [
    "test_df = pd.read_csv(os.path.join(path, 'test.csv'))\n",
    "train_df = pd.read_csv(os.path.join(path, 'train.csv'))\n",
    "# fast look at data\n",
    "print(test_df.head())\n",
    "print(train_df.head())"
   ]
  },
  {
   "cell_type": "code",
   "execution_count": 4,
   "id": "481311dc",
   "metadata": {},
   "outputs": [],
   "source": [
    "# make correct column names\n",
    "columns_name = ['polarity', 'title', 'text']\n",
    "train_df.columns = columns_name\n",
    "test_df.columns = columns_name\n"
   ]
  },
  {
   "cell_type": "markdown",
   "id": "cb67f1fd",
   "metadata": {},
   "source": [
    "### EDA"
   ]
  },
  {
   "cell_type": "code",
   "execution_count": 5,
   "id": "4adddfce",
   "metadata": {},
   "outputs": [
    {
     "name": "stdout",
     "output_type": "stream",
     "text": [
      "Train dataset info:\n",
      "<class 'pandas.core.frame.DataFrame'>\n",
      "RangeIndex: 3599999 entries, 0 to 3599998\n",
      "Data columns (total 3 columns):\n",
      " #   Column    Dtype \n",
      "---  ------    ----- \n",
      " 0   polarity  int64 \n",
      " 1   title     object\n",
      " 2   text      object\n",
      "dtypes: int64(1), object(2)\n",
      "memory usage: 82.4+ MB\n",
      "None\n",
      "\n",
      "Test dataset info:\n",
      "<class 'pandas.core.frame.DataFrame'>\n",
      "RangeIndex: 399999 entries, 0 to 399998\n",
      "Data columns (total 3 columns):\n",
      " #   Column    Non-Null Count   Dtype \n",
      "---  ------    --------------   ----- \n",
      " 0   polarity  399999 non-null  int64 \n",
      " 1   title     399975 non-null  object\n",
      " 2   text      399999 non-null  object\n",
      "dtypes: int64(1), object(2)\n",
      "memory usage: 9.2+ MB\n",
      "None\n"
     ]
    }
   ],
   "source": [
    "# fast look at data\n",
    "print(\"Train dataset info:\")\n",
    "print(train_df.info())\n",
    "print(\"\\nTest dataset info:\")\n",
    "print(test_df.info())\n",
    "\n"
   ]
  },
  {
   "cell_type": "code",
   "execution_count": 6,
   "id": "0dc3c950",
   "metadata": {},
   "outputs": [
    {
     "name": "stdout",
     "output_type": "stream",
     "text": [
      "\n",
      "Missing values in train dataset:\n",
      "polarity      0\n",
      "title       207\n",
      "text          0\n",
      "dtype: int64\n",
      "\n",
      "Missing values in test dataset:\n",
      "polarity     0\n",
      "title       24\n",
      "text         0\n",
      "dtype: int64\n"
     ]
    }
   ],
   "source": [
    "# check missing values\n",
    "print(\"\\nMissing values in train dataset:\")\n",
    "print(train_df.isnull().sum())\n",
    "print(\"\\nMissing values in test dataset:\") \n",
    "print(test_df.isnull().sum())"
   ]
  },
  {
   "cell_type": "code",
   "execution_count": 7,
   "id": "8dba6cb9",
   "metadata": {},
   "outputs": [],
   "source": [
    "# null data should be == \"\" \n",
    "train_df['title'] = train_df['title'].fillna(\"\")\n",
    "train_df['text'] = train_df['text'].fillna(\"\")\n",
    "test_df['title'] = test_df['title'].fillna(\"\")\n",
    "test_df['text'] = test_df['text'].fillna(\"\")"
   ]
  },
  {
   "cell_type": "code",
   "execution_count": 8,
   "id": "38422a33",
   "metadata": {},
   "outputs": [
    {
     "data": {
      "image/png": "[encoded data removed]",
      "text/plain": [
       "<Figure size 800x600 with 1 Axes>"
      ]
     },
     "metadata": {},
     "output_type": "display_data"
    },
    {
     "data": {
      "image/png": "[encoded data removed]",
      "text/plain": [
       "<Figure size 1200x400 with 2 Axes>"
      ]
     },
     "metadata": {},
     "output_type": "display_data"
    },
    {
     "name": "stdout",
     "output_type": "stream",
     "text": [
      "\n",
      "Summary statistics for text lengths:\n",
      "       title_length   text_length\n",
      "count  3.599999e+06  3.599999e+06\n",
      "mean   2.450652e+01  4.051396e+02\n",
      "std    1.401689e+01  2.342711e+02\n",
      "min    0.000000e+00  4.000000e+00\n",
      "25%    1.400000e+01  2.070000e+02\n",
      "50%    2.100000e+01  3.560000e+02\n",
      "75%    3.200000e+01  5.660000e+02\n",
      "max    1.390000e+02  1.010000e+03\n"
     ]
    }
   ],
   "source": [
    "plt.figure(figsize=(8,6))\n",
    "train_df['polarity'].value_counts().plot(kind='bar')\n",
    "plt.title('Distribution of Polarities in Training Set')\n",
    "plt.xlabel('Polarity')\n",
    "plt.ylabel('Count')\n",
    "plt.show()\n",
    "\n",
    "train_df['title_length'] = train_df['title'].str.len()\n",
    "train_df['text_length'] = train_df['text'].str.len()\n",
    "\n",
    "plt.figure(figsize=(12,4))\n",
    "plt.subplot(1,2,1)\n",
    "sns.boxplot(x='polarity', y='title_length', data=train_df)\n",
    "plt.title('Title Length by Polarity')\n",
    "\n",
    "plt.subplot(1,2,2)\n",
    "sns.boxplot(x='polarity', y='text_length', data=train_df)\n",
    "plt.title('Text Length by Polarity')\n",
    "plt.tight_layout()\n",
    "plt.show()\n",
    "\n",
    "# Summary statistics\n",
    "print(\"\\nSummary statistics for text lengths:\")\n",
    "print(train_df[['title_length', 'text_length']].describe())"
   ]
  },
  {
   "cell_type": "markdown",
   "id": "8ccf5c8c",
   "metadata": {},
   "source": [
    "### Data Preprocessing, Preparation"
   ]
  },
  {
   "cell_type": "markdown",
   "id": "cd40458c",
   "metadata": {},
   "source": [
    "#### Preprocessing"
   ]
  },
  {
   "cell_type": "code",
   "execution_count": 9,
   "id": "895b95d1",
   "metadata": {},
   "outputs": [],
   "source": [
    "import torch\n",
    "import torch.nn as nn\n",
    "import torch.optim as optim\n",
    "from torch.utils.data import Dataset, DataLoader\n",
    "from sklearn.model_selection import train_test_split\n",
    "from sklearn.metrics import confusion_matrix, classification_report\n",
    "from tqdm import tqdm\n"
   ]
  },
  {
   "cell_type": "code",
   "execution_count": 10,
   "id": "f1049f8a",
   "metadata": {},
   "outputs": [
    {
     "data": {
      "text/plain": [
       "0          1\n",
       "1          1\n",
       "2          1\n",
       "3          1\n",
       "4          1\n",
       "          ..\n",
       "3599994    0\n",
       "3599995    0\n",
       "3599996    0\n",
       "3599997    0\n",
       "3599998    1\n",
       "Name: polarity, Length: 3599999, dtype: int64"
      ]
     },
     "execution_count": 10,
     "metadata": {},
     "output_type": "execute_result"
    }
   ],
   "source": [
    "train_df['polarity'] = train_df['polarity'] - 1\n",
    "train_df['polarity']"
   ]
  },
  {
   "cell_type": "code",
   "execution_count": 11,
   "id": "ed193a9e",
   "metadata": {},
   "outputs": [],
   "source": [
    "#apply it to test\n",
    "test_df['polarity'] = test_df['polarity'] - 1"
   ]
  },
  {
   "cell_type": "code",
   "execution_count": 12,
   "id": "abbdc433",
   "metadata": {},
   "outputs": [],
   "source": [
    "train_df['combined'] = train_df['title'] + ' ' + train_df['text']\n",
    "test_df['combined'] = test_df['title'] + ' ' + test_df['text']"
   ]
  },
  {
   "cell_type": "markdown",
   "id": "eb8df436",
   "metadata": {},
   "source": [
    "##### Get Vocab"
   ]
  },
  {
   "cell_type": "code",
   "execution_count": 13,
   "id": "9ab38bf1",
   "metadata": {},
   "outputs": [],
   "source": [
    "class TextDataset(Dataset):\n",
    "    def __init__(self, df, vocab):\n",
    "        self.texts = df['combined'].tolist()\n",
    "        self.labels = df['polarity'].tolist()\n",
    "        self.vocab = vocab\n",
    "\n",
    "    def __len__(self):\n",
    "        return len(self.texts)\n",
    "\n",
    "    def __getitem__(self, idx):\n",
    "        text = self.texts[idx]\n",
    "        label = self.labels[idx]\n",
    "        tokens = text.split()\n",
    "        input_ids = torch.tensor([self.vocab.get(token) for token in tokens], dtype=torch.long)\n",
    "        return {'input_ids': input_ids, 'label': torch.tensor(label, dtype=torch.long)}"
   ]
  },
  {
   "cell_type": "code",
   "execution_count": 14,
   "id": "d47e6986",
   "metadata": {},
   "outputs": [],
   "source": [
    "class Vocabulary:\n",
    "    def __init__(self):\n",
    "        self.word2idx = {\"<unk>\": 0, \"<pad>\": 1}\n",
    "        self.idx2word = [\"<unk>\", \"<pad>\"]\n",
    "\n",
    "    def build_vocab(self, texts):\n",
    "        for text in texts:\n",
    "            for token in text.split():\n",
    "                if token not in self.word2idx:\n",
    "                    self.word2idx[token] = len(self.idx2word)\n",
    "                    self.idx2word.append(token)\n",
    "\n",
    "    def __len__(self):\n",
    "        return len(self.idx2word)\n",
    "\n",
    "    def get(self, token):\n",
    "        return self.word2idx.get(token, self.word2idx[\"<unk>\"])"
   ]
  },
  {
   "cell_type": "code",
   "execution_count": 15,
   "id": "01ba8650",
   "metadata": {},
   "outputs": [],
   "source": [
    "class CollateFn:\n",
    "    def __init__(self, pad_idx):\n",
    "        self.pad_idx = pad_idx\n",
    "\n",
    "    def __call__(self, batch):\n",
    "        input_ids = [item['input_ids'] for item in batch]\n",
    "        labels = torch.tensor([item['label'] for item in batch], dtype=torch.long)\n",
    "        input_ids = nn.utils.rnn.pad_sequence(input_ids, batch_first=True, padding_value=self.pad_idx)\n",
    "        return {'input_ids': input_ids, 'labels': labels}"
   ]
  },
  {
   "cell_type": "code",
   "execution_count": 16,
   "id": "25312491",
   "metadata": {},
   "outputs": [
    {
     "name": "stdout",
     "output_type": "stream",
     "text": [
      "vocab loaded\n"
     ]
    },
    {
     "data": {
      "text/plain": [
       "<__main__.Vocabulary at 0x21eff8e8160>"
      ]
     },
     "execution_count": 16,
     "metadata": {},
     "output_type": "execute_result"
    }
   ],
   "source": [
    "\n",
    "import pickle \n",
    "\n",
    "vocab = Vocabulary()\n",
    "if os.path.exists('vocab.pkl'):\n",
    "    with open('vocab.pkl', 'rb') as f:\n",
    "        print('vocab loaded')\n",
    "        vocab = pickle.load(f)\n",
    "else:\n",
    "    vocab.build_vocab(train_df['combined'])\n",
    "    with open('vocab.pkl', 'wb') as f:\n",
    "        pickle.dump(vocab, f)\n",
    "\n",
    "vocab"
   ]
  },
  {
   "cell_type": "code",
   "execution_count": 17,
   "id": "822daaf1",
   "metadata": {},
   "outputs": [
    {
     "data": {
      "text/plain": [
       "{'<unk>': 0,\n",
       " '<pad>': 1,\n",
       " 'The': 2,\n",
       " 'best': 3,\n",
       " 'soundtrack': 4,\n",
       " 'ever': 5,\n",
       " 'to': 6,\n",
       " 'anything.': 7,\n",
       " \"I'm\": 8,\n",
       " 'reading': 9,\n",
       " 'a': 10,\n",
       " 'lot': 11,\n",
       " 'of': 12,\n",
       " 'reviews': 13,\n",
       " 'saying': 14,\n",
       " 'that': 15,\n",
       " 'this': 16,\n",
       " 'is': 17,\n",
       " 'the': 18,\n",
       " \"'game\": 19,\n",
       " \"soundtrack'\": 20,\n",
       " 'and': 21,\n",
       " 'I': 22,\n",
       " 'figured': 23,\n",
       " \"I'd\": 24,\n",
       " 'write': 25,\n",
       " 'review': 26,\n",
       " 'disagree': 27,\n",
       " 'bit.': 28,\n",
       " 'This': 29,\n",
       " 'in': 30,\n",
       " 'my': 31,\n",
       " 'opinino': 32,\n",
       " 'Yasunori': 33,\n",
       " \"Mitsuda's\": 34,\n",
       " 'ultimate': 35,\n",
       " 'masterpiece.': 36,\n",
       " 'music': 37,\n",
       " 'timeless': 38,\n",
       " 'been': 39,\n",
       " 'listening': 40,\n",
       " 'it': 41,\n",
       " 'for': 42,\n",
       " 'years': 43,\n",
       " 'now': 44,\n",
       " 'its': 45,\n",
       " 'beauty': 46,\n",
       " 'simply': 47,\n",
       " 'refuses': 48,\n",
       " 'fade.The': 49,\n",
       " 'price': 50,\n",
       " 'tag': 51,\n",
       " 'on': 52,\n",
       " 'pretty': 53,\n",
       " 'staggering': 54,\n",
       " 'must': 55,\n",
       " 'say,': 56,\n",
       " 'but': 57,\n",
       " 'if': 58,\n",
       " 'you': 59,\n",
       " 'are': 60,\n",
       " 'going': 61,\n",
       " 'buy': 62,\n",
       " 'any': 63,\n",
       " 'cd': 64,\n",
       " 'much': 65,\n",
       " 'money,': 66,\n",
       " 'only': 67,\n",
       " 'one': 68,\n",
       " 'feel': 69,\n",
       " 'would': 70,\n",
       " 'be': 71,\n",
       " 'worth': 72,\n",
       " 'every': 73,\n",
       " 'penny.': 74,\n",
       " 'Amazing!': 75,\n",
       " 'favorite': 76,\n",
       " 'all': 77,\n",
       " 'time,': 78,\n",
       " 'hands': 79,\n",
       " 'down.': 80,\n",
       " 'intense': 81,\n",
       " 'sadness': 82,\n",
       " '\"Prisoners': 83,\n",
       " 'Fate\"': 84,\n",
       " '(which': 85,\n",
       " 'means': 86,\n",
       " 'more': 87,\n",
       " \"you've\": 88,\n",
       " 'played': 89,\n",
       " 'game)': 90,\n",
       " 'hope': 91,\n",
       " '\"A': 92,\n",
       " 'Distant': 93,\n",
       " 'Promise\"': 94,\n",
       " '\"Girl': 95,\n",
       " 'who': 96,\n",
       " 'Stole': 97,\n",
       " 'Star\"': 98,\n",
       " 'have': 99,\n",
       " 'an': 100,\n",
       " 'important': 101,\n",
       " 'inspiration': 102,\n",
       " 'me': 103,\n",
       " 'personally': 104,\n",
       " 'throughout': 105,\n",
       " 'teen': 106,\n",
       " 'years.': 107,\n",
       " 'higher': 108,\n",
       " 'energy': 109,\n",
       " 'tracks': 110,\n",
       " 'like': 111,\n",
       " '\"Chrono': 112,\n",
       " 'Cross': 113,\n",
       " '~': 114,\n",
       " \"Time's\": 115,\n",
       " 'Scar~\",': 116,\n",
       " '\"Time': 117,\n",
       " 'Dreamwatch\",': 118,\n",
       " '\"Chronomantique\"': 119,\n",
       " '(indefinably': 120,\n",
       " 'remeniscent': 121,\n",
       " 'Chrono': 122,\n",
       " 'Trigger)': 123,\n",
       " 'absolutely': 124,\n",
       " 'superb': 125,\n",
       " 'as': 126,\n",
       " 'well.This': 127,\n",
       " 'amazing': 128,\n",
       " 'music,': 129,\n",
       " 'probably': 130,\n",
       " \"composer's\": 131,\n",
       " 'work': 132,\n",
       " '(I': 133,\n",
       " \"haven't\": 134,\n",
       " 'heard': 135,\n",
       " 'Xenogears': 136,\n",
       " 'soundtrack,': 137,\n",
       " 'so': 138,\n",
       " \"can't\": 139,\n",
       " 'say': 140,\n",
       " 'sure),': 141,\n",
       " 'even': 142,\n",
       " 'never': 143,\n",
       " 'game,': 144,\n",
       " 'twice': 145,\n",
       " 'it.I': 146,\n",
       " 'wish': 147,\n",
       " 'could': 148,\n",
       " 'give': 149,\n",
       " '6': 150,\n",
       " 'stars.': 151,\n",
       " 'Excellent': 152,\n",
       " 'Soundtrack': 153,\n",
       " 'truly': 154,\n",
       " 'enjoy': 155,\n",
       " 'video': 156,\n",
       " 'game': 157,\n",
       " 'music.': 158,\n",
       " 'most': 159,\n",
       " 'here': 160,\n",
       " \"it's\": 161,\n",
       " 'relaxing': 162,\n",
       " 'peaceful.On': 163,\n",
       " 'disk': 164,\n",
       " 'one.': 165,\n",
       " 'favorites': 166,\n",
       " 'Scars': 167,\n",
       " 'Of': 168,\n",
       " 'Time,': 169,\n",
       " 'Between': 170,\n",
       " 'Life': 171,\n",
       " 'Death,': 172,\n",
       " 'Forest': 173,\n",
       " 'Illusion,': 174,\n",
       " 'Fortress': 175,\n",
       " 'Ancient': 176,\n",
       " 'Dragons,': 177,\n",
       " 'Lost': 178,\n",
       " 'Fragment,': 179,\n",
       " 'Drowned': 180,\n",
       " 'Valley.Disk': 181,\n",
       " 'Two:': 182,\n",
       " 'Draggons,': 183,\n",
       " 'Galdorb': 184,\n",
       " '-': 185,\n",
       " 'Home,': 186,\n",
       " 'Chronomantique,': 187,\n",
       " 'Prisoners': 188,\n",
       " 'Fate,': 189,\n",
       " 'Gale,': 190,\n",
       " 'girlfriend': 191,\n",
       " 'likes': 192,\n",
       " 'ZelbessDisk': 193,\n",
       " 'Three:': 194,\n",
       " 'three.': 195,\n",
       " 'Garden': 196,\n",
       " 'God,': 197,\n",
       " 'Chronopolis,': 198,\n",
       " 'Fates,': 199,\n",
       " 'Jellyfish': 200,\n",
       " 'sea,': 201,\n",
       " 'Burning': 202,\n",
       " 'Orphange,': 203,\n",
       " \"Dragon's\": 204,\n",
       " 'Prayer,': 205,\n",
       " 'Tower': 206,\n",
       " 'Stars,': 207,\n",
       " 'Dragon': 208,\n",
       " 'Radical': 209,\n",
       " 'Dreamers': 210,\n",
       " 'Unstealable': 211,\n",
       " 'Jewel.Overall,': 212,\n",
       " 'excellent': 213,\n",
       " 'should': 214,\n",
       " 'brought': 215,\n",
       " 'by': 216,\n",
       " 'those': 217,\n",
       " 'music.Xander': 218,\n",
       " 'Remember,': 219,\n",
       " 'Pull': 220,\n",
       " 'Your': 221,\n",
       " 'Jaw': 222,\n",
       " 'Off': 223,\n",
       " 'Floor': 224,\n",
       " 'After': 225,\n",
       " 'Hearing': 226,\n",
       " 'If': 227,\n",
       " 'know': 228,\n",
       " 'how': 229,\n",
       " 'divine': 230,\n",
       " 'is!': 231,\n",
       " 'Every': 232,\n",
       " 'single': 233,\n",
       " 'song': 234,\n",
       " 'tells': 235,\n",
       " 'story': 236,\n",
       " 'good!': 237,\n",
       " 'greatest': 238,\n",
       " 'songs': 239,\n",
       " 'without': 240,\n",
       " 'doubt,': 241,\n",
       " 'Cross:': 242,\n",
       " 'Scar,': 243,\n",
       " 'Magical': 244,\n",
       " 'Dreamers:': 245,\n",
       " 'Wind,': 246,\n",
       " 'Sea': 247,\n",
       " 'Unstolen': 248,\n",
       " 'Jewel.': 249,\n",
       " '(Translation': 250,\n",
       " 'varies)': 251,\n",
       " 'perfect': 252,\n",
       " 'ask': 253,\n",
       " 'me,': 254,\n",
       " 'can': 255,\n",
       " 'be.': 256,\n",
       " 'Mitsuda': 257,\n",
       " 'just': 258,\n",
       " 'poured': 259,\n",
       " 'his': 260,\n",
       " 'heart': 261,\n",
       " 'wrote': 262,\n",
       " 'down': 263,\n",
       " 'paper.': 264,\n",
       " 'absolute': 265,\n",
       " 'masterpiece': 266,\n",
       " 'am': 267,\n",
       " 'quite': 268,\n",
       " 'sure': 269,\n",
       " 'actually': 270,\n",
       " 'taking': 271,\n",
       " 'time': 272,\n",
       " 'read': 273,\n",
       " 'at': 274,\n",
       " 'least': 275,\n",
       " 'once,': 276,\n",
       " 'few': 277,\n",
       " 'here.': 278,\n",
       " 'And': 279,\n",
       " 'whether': 280,\n",
       " 'were': 281,\n",
       " 'aware': 282,\n",
       " 'or': 283,\n",
       " 'not,': 284,\n",
       " 'contributed': 285,\n",
       " 'greatly': 286,\n",
       " 'mood': 287,\n",
       " 'minute': 288,\n",
       " 'whole': 289,\n",
       " 'game.Composed': 290,\n",
       " '3': 291,\n",
       " 'CDs': 292,\n",
       " 'exact': 293,\n",
       " 'count),': 294,\n",
       " 'which': 295,\n",
       " 'heart-rendering': 296,\n",
       " 'impressively': 297,\n",
       " 'remarkable,': 298,\n",
       " 'assure': 299,\n",
       " 'will': 300,\n",
       " 'not': 301,\n",
       " 'forget.': 302,\n",
       " 'It': 303,\n",
       " 'has': 304,\n",
       " 'everything': 305,\n",
       " 'listener': 306,\n",
       " '--': 307,\n",
       " 'from': 308,\n",
       " 'fast-paced': 309,\n",
       " 'energetic': 310,\n",
       " '(Dancing': 311,\n",
       " 'Tokage': 312,\n",
       " 'Termina': 313,\n",
       " 'Home),': 314,\n",
       " 'slower': 315,\n",
       " 'haunting': 316,\n",
       " '(Dragon': 317,\n",
       " 'God),': 318,\n",
       " 'purely': 319,\n",
       " 'beautifully': 320,\n",
       " 'composed': 321,\n",
       " \"(Time's\": 322,\n",
       " 'Scar),': 323,\n",
       " 'some': 324,\n",
       " 'fantastic': 325,\n",
       " 'vocals': 326,\n",
       " '(Radical': 327,\n",
       " 'Dreamers).This': 328,\n",
       " 'videogame': 329,\n",
       " 'soundtracks': 330,\n",
       " 'out': 331,\n",
       " 'there,': 332,\n",
       " 'surely': 333,\n",
       " 'ever.': 334,\n",
       " '^_^': 335,\n",
       " 'Buyer': 336,\n",
       " 'beware': 337,\n",
       " 'self-published': 338,\n",
       " 'book,': 339,\n",
       " 'want': 340,\n",
       " 'why--read': 341,\n",
       " 'paragraphs!': 342,\n",
       " 'Those': 343,\n",
       " '5': 344,\n",
       " 'star': 345,\n",
       " 'written': 346,\n",
       " 'Ms.': 347,\n",
       " \"Haddon's\": 348,\n",
       " 'family': 349,\n",
       " 'friends--or': 350,\n",
       " 'perhaps,': 351,\n",
       " 'herself!': 352,\n",
       " 'imagine': 353,\n",
       " 'anyone': 354,\n",
       " 'thing--I': 355,\n",
       " 'spent': 356,\n",
       " 'evening': 357,\n",
       " 'with': 358,\n",
       " 'book': 359,\n",
       " 'friend': 360,\n",
       " 'we': 361,\n",
       " 'hysterics': 362,\n",
       " 'bits': 363,\n",
       " 'pieces': 364,\n",
       " 'another.': 365,\n",
       " 'definitely': 366,\n",
       " 'bad': 367,\n",
       " 'enough': 368,\n",
       " 'entered': 369,\n",
       " 'into': 370,\n",
       " 'kind': 371,\n",
       " '\"worst': 372,\n",
       " 'book\"': 373,\n",
       " 'contest.': 374,\n",
       " 'believe': 375,\n",
       " 'Amazon': 376,\n",
       " 'sells': 377,\n",
       " 'thing.': 378,\n",
       " 'Maybe': 379,\n",
       " 'offer': 380,\n",
       " 'them': 381,\n",
       " '8th': 382,\n",
       " 'grade': 383,\n",
       " 'term': 384,\n",
       " 'paper': 385,\n",
       " '\"To': 386,\n",
       " 'Kill': 387,\n",
       " 'Mockingbird\"--a': 388,\n",
       " 'Haddon': 389,\n",
       " 'of.': 390,\n",
       " 'Anyway,': 391,\n",
       " 'unless': 392,\n",
       " 'send': 393,\n",
       " 'someone': 394,\n",
       " 'joke---stay': 395,\n",
       " 'far,': 396,\n",
       " 'far': 397,\n",
       " 'away': 398,\n",
       " 'one!': 399,\n",
       " 'Glorious': 400,\n",
       " 'loved': 401,\n",
       " 'Whisper': 402,\n",
       " 'wicked': 403,\n",
       " 'saints.': 404,\n",
       " 'was': 405,\n",
       " 'pleasantly': 406,\n",
       " 'surprised': 407,\n",
       " 'changes': 408,\n",
       " 'book.': 409,\n",
       " 'normaly': 410,\n",
       " 'romance': 411,\n",
       " 'novels,': 412,\n",
       " 'world': 413,\n",
       " 'raving': 414,\n",
       " 'about': 415,\n",
       " 'bought': 416,\n",
       " 'it.': 417,\n",
       " '!!': 418,\n",
       " 'brilliant': 419,\n",
       " 'because': 420,\n",
       " 'true.': 421,\n",
       " 'wonderful': 422,\n",
       " 'told': 423,\n",
       " 'friends': 424,\n",
       " 'typical': 425,\n",
       " 'romance,': 426,\n",
       " 'more.': 427,\n",
       " 'Not': 428,\n",
       " 'crime,': 429,\n",
       " 'becuase': 430,\n",
       " 'missing': 431,\n",
       " 'warming': 432,\n",
       " 'story.': 433,\n",
       " 'A': 434,\n",
       " 'FIVE': 435,\n",
       " 'STAR': 436,\n",
       " 'BOOK': 437,\n",
       " 'finished': 438,\n",
       " 'Wicked': 439,\n",
       " 'fell': 440,\n",
       " 'love': 441,\n",
       " 'caracters.': 442,\n",
       " 'expected': 443,\n",
       " 'average': 444,\n",
       " 'read,': 445,\n",
       " 'instead': 446,\n",
       " 'found': 447,\n",
       " 'books': 448,\n",
       " 'time.': 449,\n",
       " 'Just': 450,\n",
       " 'when': 451,\n",
       " 'thought': 452,\n",
       " 'predict': 453,\n",
       " 'outcome': 454,\n",
       " 'shocked': 455,\n",
       " '!': 456,\n",
       " 'writting': 457,\n",
       " 'descriptive': 458,\n",
       " 'broke': 459,\n",
       " \"Julia's\": 460,\n",
       " 'did': 461,\n",
       " 'felt': 462,\n",
       " 'there': 463,\n",
       " 'distant': 464,\n",
       " 'reader.': 465,\n",
       " 'lover': 466,\n",
       " 'novels': 467,\n",
       " 'then': 468,\n",
       " 'read.': 469,\n",
       " \"Don't\": 470,\n",
       " 'let': 471,\n",
       " 'cover': 472,\n",
       " 'fool': 473,\n",
       " 'spectacular!': 474,\n",
       " 'Whispers': 475,\n",
       " 'Saints': 476,\n",
       " 'easy': 477,\n",
       " 'made': 478,\n",
       " 'keep': 479,\n",
       " 'on,': 480,\n",
       " 'put': 481,\n",
       " 'down.It': 482,\n",
       " 'left': 483,\n",
       " 'wanting': 484,\n",
       " 'follow': 485,\n",
       " 'coming': 486,\n",
       " 'soon.': 487,\n",
       " 'used': 488,\n",
       " 'gotten': 489,\n",
       " 'again.': 490,\n",
       " 'Very': 491,\n",
       " 'enjoyable.': 492,\n",
       " 'Worst!': 493,\n",
       " 'complete': 494,\n",
       " 'waste': 495,\n",
       " 'Typographical': 496,\n",
       " 'errors,': 497,\n",
       " 'poor': 498,\n",
       " 'grammar,': 499,\n",
       " 'totally': 500,\n",
       " 'pathetic': 501,\n",
       " 'plot': 502,\n",
       " 'add': 503,\n",
       " 'up': 504,\n",
       " 'nothing.': 505,\n",
       " 'embarrassed': 506,\n",
       " 'author': 507,\n",
       " 'very': 508,\n",
       " 'disappointed': 509,\n",
       " 'paid': 510,\n",
       " 'Great': 511,\n",
       " 'great': 512,\n",
       " 'book,I': 513,\n",
       " 'down,and': 514,\n",
       " 'fast': 515,\n",
       " 'enough.': 516,\n",
       " 'Boy': 517,\n",
       " 'what': 518,\n",
       " 'twist': 519,\n",
       " 'turns': 520,\n",
       " 'keeps': 521,\n",
       " 'guessing': 522,\n",
       " 'happen': 523,\n",
       " 'next.': 524,\n",
       " 'makes': 525,\n",
       " 'fall': 526,\n",
       " 'heat': 527,\n",
       " 'up,it': 528,\n",
       " 'also': 529,\n",
       " 'make': 530,\n",
       " 'angery.': 531,\n",
       " 'go': 532,\n",
       " 'throu': 533,\n",
       " 'several': 534,\n",
       " 'your': 535,\n",
       " 'emotions.': 536,\n",
       " 'quick': 537,\n",
       " 'romance.': 538,\n",
       " 'something': 539,\n",
       " 'end': 540,\n",
       " 'day': 541,\n",
       " 'off': 542,\n",
       " 'night.': 543,\n",
       " 'Read': 544,\n",
       " 'brilliant,': 545,\n",
       " 'yet': 546,\n",
       " 'realistic.': 547,\n",
       " 'showed': 548,\n",
       " 'error': 549,\n",
       " 'human.': 550,\n",
       " 'fact': 551,\n",
       " 'writer': 552,\n",
       " 'loving': 553,\n",
       " 'side': 554,\n",
       " 'God': 555,\n",
       " 'revengeful': 556,\n",
       " 'him.': 557,\n",
       " 'twisted': 558,\n",
       " 'turned': 559,\n",
       " 'glass': 560,\n",
       " 'castle.': 561,\n",
       " 'Oh': 562,\n",
       " 'please': 563,\n",
       " 'guess': 564,\n",
       " 'novel': 565,\n",
       " 'one,': 566,\n",
       " 'discerning': 567,\n",
       " 'All': 568,\n",
       " 'others': 569,\n",
       " 'beware!': 570,\n",
       " 'drivel.': 571,\n",
       " 'trouble': 572,\n",
       " 'typo': 573,\n",
       " 'prominently': 574,\n",
       " 'featured': 575,\n",
       " 'back': 576,\n",
       " 'cover,': 577,\n",
       " 'first': 578,\n",
       " 'page': 579,\n",
       " 'removed': 580,\n",
       " 'doubt.': 581,\n",
       " 'Wait': 582,\n",
       " 'maybe': 583,\n",
       " 'point.': 584,\n",
       " 're-read': 585,\n",
       " 'beginning': 586,\n",
       " 'clear.': 587,\n",
       " 'intentional': 588,\n",
       " 'churning': 589,\n",
       " 'over-heated': 590,\n",
       " 'prose': 591,\n",
       " 'satiric': 592,\n",
       " 'purposes.': 593,\n",
       " 'Phew,': 594,\n",
       " 'glad': 595,\n",
       " \"didn't\": 596,\n",
       " '$10.95': 597,\n",
       " 'after': 598,\n",
       " 'all.': 599,\n",
       " 'Awful': 600,\n",
       " 'beyond': 601,\n",
       " 'belief!': 602,\n",
       " 'wasting': 603,\n",
       " 'their': 604,\n",
       " 'money.': 605,\n",
       " 'seems': 606,\n",
       " '7th': 607,\n",
       " 'grader': 608,\n",
       " 'grammatical': 609,\n",
       " 'skills': 610,\n",
       " 'her': 611,\n",
       " 'age!': 612,\n",
       " 'As': 613,\n",
       " 'another': 614,\n",
       " 'reviewer': 615,\n",
       " 'points': 616,\n",
       " 'out,': 617,\n",
       " 'misspelling': 618,\n",
       " 'per': 619,\n",
       " 'chapter.': 620,\n",
       " 'For': 621,\n",
       " 'example,': 622,\n",
       " 'mentioned': 623,\n",
       " 'she': 624,\n",
       " 'had': 625,\n",
       " '\"lean\"': 626,\n",
       " 'house.': 627,\n",
       " 'distracted': 628,\n",
       " 'writing': 629,\n",
       " 'weak': 630,\n",
       " 'plot,': 631,\n",
       " 'decided': 632,\n",
       " 'pencil': 633,\n",
       " 'hand': 634,\n",
       " 'mark': 635,\n",
       " 'horrible': 636,\n",
       " 'grammar': 637,\n",
       " 'spelling.': 638,\n",
       " 'Please': 639,\n",
       " \"don't\": 640,\n",
       " 'too,': 641,\n",
       " 'good': 642,\n",
       " \"author's\": 643,\n",
       " 'relatives.': 644,\n",
       " 'faith': 645,\n",
       " 'on!': 646,\n",
       " 'try': 647,\n",
       " 'us': 648,\n",
       " 'fake': 649,\n",
       " 'reviews.': 650,\n",
       " \"It's\": 651,\n",
       " 'glaringly': 652,\n",
       " 'obvious': 653,\n",
       " 'glowing': 654,\n",
       " 'same': 655,\n",
       " 'person,': 656,\n",
       " 'perhaps': 657,\n",
       " 'herself.': 658,\n",
       " 'They': 659,\n",
       " 'misspellings': 660,\n",
       " 'sentence': 661,\n",
       " 'structure': 662,\n",
       " 'Who': 663,\n",
       " 'Veronica': 664,\n",
       " 'think': 665,\n",
       " 'author?': 666,\n",
       " 'romantic': 667,\n",
       " 'zen': 668,\n",
       " 'baseball': 669,\n",
       " 'comedy': 670,\n",
       " 'When': 671,\n",
       " 'hear': 672,\n",
       " 'folks': 673,\n",
       " 'they': 674,\n",
       " \"'em\": 675,\n",
       " 'anymore,': 676,\n",
       " 'might': 677,\n",
       " 'talking': 678,\n",
       " '\"BY': 679,\n",
       " 'THE': 680,\n",
       " 'SEA\".': 681,\n",
       " 'cool': 682,\n",
       " 'young': 683,\n",
       " 'Cuban': 684,\n",
       " 'girl': 685,\n",
       " 'searching': 686,\n",
       " 'idenity': 687,\n",
       " 'stumbles': 688,\n",
       " 'coastal': 689,\n",
       " 'resort': 690,\n",
       " 'kitchen': 691,\n",
       " 'gig': 692,\n",
       " 'motorcycle': 693,\n",
       " 'maintenance': 694,\n",
       " 'man,': 695,\n",
       " 'three': 696,\n",
       " 'hysterical': 697,\n",
       " 'Italian': 698,\n",
       " 'chefs': 699,\n",
       " 'Latino': 700,\n",
       " 'fireballing': 701,\n",
       " 'right': 702,\n",
       " 'handed': 703,\n",
       " 'pitcher': 704,\n",
       " 'plays': 705,\n",
       " 'team': 706,\n",
       " 'sponsored': 707,\n",
       " \"resort's\": 708,\n",
       " 'owner.': 709,\n",
       " 'often': 710,\n",
       " 'case': 711,\n",
       " \"'finds'\": 712,\n",
       " 'herself': 713,\n",
       " 'through': 714,\n",
       " 'honest,': 715,\n",
       " 'comical': 716,\n",
       " 'always': 717,\n",
       " 'emotional,': 718,\n",
       " 'interaction': 719,\n",
       " 'sizzling': 720,\n",
       " 'roster': 721,\n",
       " 'players.': 722,\n",
       " 'With': 723,\n",
       " 'mix': 724,\n",
       " 'special': 725,\n",
       " 'effects,': 726,\n",
       " 'salsa': 727,\n",
       " 'sound': 728,\n",
       " 'flashbacks,': 729,\n",
       " 'BY': 730,\n",
       " 'SEA,': 731,\n",
       " 'gets': 732,\n",
       " '4': 733,\n",
       " 'BIG': 734,\n",
       " 'stars': 735,\n",
       " 'me!': 736,\n",
       " 'Fashionable': 737,\n",
       " 'Compression': 738,\n",
       " 'Stockings!': 739,\n",
       " 'DVT': 740,\n",
       " 'doctor': 741,\n",
       " 'required': 742,\n",
       " 'wear': 743,\n",
       " 'compression': 744,\n",
       " 'stockings.': 745,\n",
       " 'wore': 746,\n",
       " 'ugly': 747,\n",
       " 'white': 748,\n",
       " 'TED': 749,\n",
       " 'hose': 750,\n",
       " 'yucky': 751,\n",
       " 'thick': 752,\n",
       " 'brown': 753,\n",
       " 'Then': 754,\n",
       " 'Jobst': 755,\n",
       " 'UltraSheer.': 756,\n",
       " 'gave': 757,\n",
       " 'needed': 758,\n",
       " '(15-20,)': 759,\n",
       " 'looked': 760,\n",
       " 'regular': 761,\n",
       " 'pantyhose.': 762,\n",
       " 'Even': 763,\n",
       " 'though': 764,\n",
       " 'blood': 765,\n",
       " 'clot': 766,\n",
       " 'gone': 767,\n",
       " 'years,': 768,\n",
       " 'still': 769,\n",
       " 'these': 770,\n",
       " 'support': 771,\n",
       " 'stockings': 772,\n",
       " 'legs': 773,\n",
       " 'nice.**Note,': 774,\n",
       " 'problems': 775,\n",
       " 'rubberized': 776,\n",
       " 'tops': 777,\n",
       " 'rolling': 778,\n",
       " 'thigh.': 779,\n",
       " 'tried': 780,\n",
       " 'adhesive,': 781,\n",
       " 'hated': 782,\n",
       " 'having': 783,\n",
       " 'skin': 784,\n",
       " 'pulled': 785,\n",
       " 'day.': 786,\n",
       " 'inexpensive': 787,\n",
       " 'garter': 788,\n",
       " 'belt': 789,\n",
       " 'works': 790,\n",
       " 'fine': 791,\n",
       " 'helps': 792,\n",
       " 'rolling.': 793,\n",
       " 'UltraSheer': 794,\n",
       " 'Thigh': 795,\n",
       " 'High': 796,\n",
       " 'product.': 797,\n",
       " 'However,': 798,\n",
       " 'difficult': 799,\n",
       " 'get': 800,\n",
       " 'older': 801,\n",
       " 'people.': 802,\n",
       " \"I've\": 803,\n",
       " 'full': 804,\n",
       " 'workout': 805,\n",
       " 'getting': 806,\n",
       " 'on.': 807,\n",
       " 'Also,': 808,\n",
       " 'wears': 809,\n",
       " 'begin': 810,\n",
       " 'roll': 811,\n",
       " 'top': 812,\n",
       " 'create': 813,\n",
       " 'deep': 814,\n",
       " 'ridge': 815,\n",
       " 'skin.': 816,\n",
       " 'them,': 817,\n",
       " 'two': 818,\n",
       " 'difficulties': 819,\n",
       " 'addressed': 820,\n",
       " 'such': 821,\n",
       " 'help.': 822,\n",
       " 'sizes': 823,\n",
       " 'recomended': 824,\n",
       " 'size': 825,\n",
       " 'chart': 826,\n",
       " 'real': 827,\n",
       " 'smaller': 828,\n",
       " 'than': 829,\n",
       " 'chart.': 830,\n",
       " 'sheer': 831,\n",
       " 'it!.': 832,\n",
       " 'item': 833,\n",
       " 'internet..it': 834,\n",
       " 'better': 835,\n",
       " 'store': 836,\n",
       " 'check': 837,\n",
       " 'mens': 838,\n",
       " 'ultrasheer': 839,\n",
       " 'model': 840,\n",
       " 'may': 841,\n",
       " 'ok': 842,\n",
       " 'sedentary': 843,\n",
       " 'types,': 844,\n",
       " 'active': 845,\n",
       " 'around': 846,\n",
       " 'alot': 847,\n",
       " 'job': 848,\n",
       " 'consistently': 849,\n",
       " 'rolled': 850,\n",
       " 'ankles!': 851,\n",
       " 'Good!!': 852,\n",
       " 'Solution:': 853,\n",
       " 'standard': 854,\n",
       " 'stocking,': 855,\n",
       " '20-30,': 856,\n",
       " 'stock': 857,\n",
       " '#114622.': 858,\n",
       " 'support,': 859,\n",
       " 'stays': 860,\n",
       " 'gives': 861,\n",
       " 'need.': 862,\n",
       " 'Both': 863,\n",
       " 'pair': 864,\n",
       " 'tore': 865,\n",
       " 'struggled': 866,\n",
       " 'pull': 867,\n",
       " 'Good': 868,\n",
       " 'riddance/bad': 869,\n",
       " 'investment!': 870,\n",
       " 'Delicious': 871,\n",
       " 'cookie': 872,\n",
       " 'funny': 873,\n",
       " 'product': 874,\n",
       " 'knowing': 875,\n",
       " 'mix.': 876,\n",
       " 'header': 877,\n",
       " 'quickly': 878,\n",
       " 'packaged': 879,\n",
       " 'cookies.': 880,\n",
       " 'But': 881,\n",
       " 'no,': 882,\n",
       " 'MIX': 883,\n",
       " 'noticed': 884,\n",
       " 'since': 885,\n",
       " 'title.This': 886,\n",
       " 'baking': 887,\n",
       " 'convenience': 888,\n",
       " 'dough': 889,\n",
       " 'wrapped': 890,\n",
       " 'plastic': 891,\n",
       " 'logs': 892,\n",
       " 'bit': 893,\n",
       " 'surprise.': 894,\n",
       " 'Mixing': 895,\n",
       " 'VERY': 896,\n",
       " 'messy': 897,\n",
       " '(it': 898,\n",
       " 'extremely': 899,\n",
       " 'sticky).': 900,\n",
       " 'flexibility': 901,\n",
       " 'ratio': 902,\n",
       " 'ingredients': 903,\n",
       " 'extra': 904,\n",
       " 'butter': 905,\n",
       " 'baked': 906,\n",
       " 'cookies': 907,\n",
       " 'chewy).': 908,\n",
       " 'really': 909,\n",
       " 'large': 910,\n",
       " 'chocolate': 911,\n",
       " 'chips': 912,\n",
       " 'it--I': 913,\n",
       " 'that.I': 914,\n",
       " 'addition': 915,\n",
       " \"'natural\": 916,\n",
       " \"flavors'\": 917,\n",
       " 'Another': 918,\n",
       " 'Abysmal': 919,\n",
       " 'Digital': 920,\n",
       " 'Copy': 921,\n",
       " 'Rather': 922,\n",
       " 'scratches': 923,\n",
       " 'insect': 924,\n",
       " 'droppings,': 925,\n",
       " 'random': 926,\n",
       " 'pixelations': 927,\n",
       " 'combined': 928,\n",
       " 'muddy': 929,\n",
       " 'light': 930,\n",
       " 'vague': 931,\n",
       " 'image': 932,\n",
       " 'resolution.': 933,\n",
       " 'Probably': 934,\n",
       " 'cue': 935,\n",
       " 'packaging': 936,\n",
       " 'straight': 937,\n",
       " 'street': 938,\n",
       " 'corner': 939,\n",
       " 'bootleg': 940,\n",
       " 'dealer.If': 941,\n",
       " 'seen': 942,\n",
       " 'reasonably': 943,\n",
       " 'condition': 944,\n",
       " 'film': 945,\n",
       " 'copy,': 946,\n",
       " 'defining': 947,\n",
       " 'visuals': 948,\n",
       " 'crystal': 949,\n",
       " 'clear': 950,\n",
       " 'lighting': 951,\n",
       " 'contrasts': 952,\n",
       " 'black': 953,\n",
       " 'white.': 954,\n",
       " 'surrounding': 955,\n",
       " 'countryside': 956,\n",
       " \"'old\": 957,\n",
       " \"home'\": 958,\n",
       " 'scenes': 959,\n",
       " 'set': 960,\n",
       " 'early': 961,\n",
       " 'morning': 962,\n",
       " 'ground': 963,\n",
       " 'mists': 964,\n",
       " 'haze': 965,\n",
       " 'memory': 966,\n",
       " 'while': 967,\n",
       " 'events': 968,\n",
       " 'bridge': 969,\n",
       " 'water': 970,\n",
       " 'bright,': 971,\n",
       " 'clear,': 972,\n",
       " 'immediate.Here': 973,\n",
       " 'dull,': 974,\n",
       " 'dark,': 975,\n",
       " 'clouded.': 976,\n",
       " 'Or,': 977,\n",
       " 'remember': 978,\n",
       " 'timbre': 979,\n",
       " 'enunciation': 980,\n",
       " \"Captain's\": 981,\n",
       " 'commands,': 982,\n",
       " 'visuals.After': 983,\n",
       " 'that,': 984,\n",
       " 'hard': 985,\n",
       " 'award': 986,\n",
       " 'winning,': 987,\n",
       " 'critically': 988,\n",
       " 'acclaimed': 989,\n",
       " \"film's\": 990,\n",
       " 'presentation': 991,\n",
       " 'YOUTUBE.': 992,\n",
       " 'Somewhere': 993,\n",
       " '\"out': 994,\n",
       " 'there\"': 995,\n",
       " 'DVD': 996,\n",
       " 'comes': 997,\n",
       " '16mm': 998,\n",
       " 'public': 999,\n",
       " ...}"
      ]
     },
     "execution_count": 17,
     "metadata": {},
     "output_type": "execute_result"
    }
   ],
   "source": [
    "vocab.word2idx"
   ]
  },
  {
   "cell_type": "code",
   "execution_count": 18,
   "id": "3fc3e5ee",
   "metadata": {},
   "outputs": [],
   "source": [
    "### after get vocab, we can confidece resample train set\n",
    "n_sample = 20000\n",
    "train_df_resample = train_df.sample(n=n_sample, random_state=42).reset_index(drop=True)\n",
    "\n",
    "train_df_resample, val_df = train_test_split(train_df_resample, test_size=0.2, random_state=42)\n",
    "#Load Dataset\n",
    "train_dataset = TextDataset(train_df_resample, vocab)\n",
    "val_dataset = TextDataset(val_df, vocab)\n",
    "test_dataset = TextDataset(test_df, vocab)\n",
    "#Create Dataloader\n",
    "collate_fn = CollateFn(pad_idx=vocab.word2idx[\"<pad>\"])\n",
    "train_loader = DataLoader(train_dataset, batch_size=32, shuffle=True, collate_fn=collate_fn)\n",
    "val_loader = DataLoader(val_dataset, batch_size=32, collate_fn=collate_fn)\n",
    "test_loader = DataLoader(test_dataset, batch_size=32, collate_fn=collate_fn)"
   ]
  },
  {
   "cell_type": "markdown",
   "id": "b2b82084",
   "metadata": {},
   "source": [
    "## Training Stage"
   ]
  },
  {
   "cell_type": "markdown",
   "id": "cfcaad94",
   "metadata": {},
   "source": [
    "### 1. RNN Model"
   ]
  },
  {
   "cell_type": "code",
   "execution_count": 19,
   "id": "5c628e1b",
   "metadata": {},
   "outputs": [
    {
     "data": {
      "text/plain": [
       "'cuda'"
      ]
     },
     "execution_count": 19,
     "metadata": {},
     "output_type": "execute_result"
    }
   ],
   "source": [
    "device = 'cuda' if torch.cuda.is_available() else 'cpu'\n",
    "device"
   ]
  },
  {
   "cell_type": "code",
   "execution_count": null,
   "id": "1f683bd1",
   "metadata": {},
   "outputs": [],
   "source": [
    "# init rnn model\n",
    "class RNNModel(nn.Module):\n",
    "    '''\n",
    "        RNN Model for text classification\n",
    "        Args:\n",
    "            vocab_size (int): Size of vocabulary\n",
    "            embed_size (int): Size of word embeddings\n",
    "            hidden_size (int): Number of hidden units in RNN\n",
    "            output_size (int): Number of output classes\n",
    "            num_layers (int): Number of RNN layers\n",
    "            pad_idx (int): Index used for padding\n",
    "            \n",
    "        Forward pass:\n",
    "            x: Input tensor of shape [batch_size, seq_length]\n",
    "            Returns tensor of shape [batch_size, output_size]\n",
    "    '''\n",
    "    def __init__(self, vocab_size, embed_size, hidden_size, output_size, num_layers, pad_idx):\n",
    "        super(RNNModel, self).__init__()\n",
    "        self.embedding = nn.Embedding(vocab_size, embed_size, padding_idx=pad_idx) #embedding stage\n",
    "        self.rnn = nn.RNN(embed_size, hidden_size, num_layers, batch_first=True)\n",
    "        self.fc = nn.Linear(hidden_size, output_size)\n",
    "        self.hidden_size = hidden_size\n",
    "        self.num_layers = num_layers\n",
    "        \n",
    "    def forward(self, x):\n",
    "        h0 = torch.zeros(self.num_layers, x.size(0), self.hidden_size)\n",
    "        h0 = h0.to(x.device)\n",
    "        \n",
    "        embeds = self.embedding(x)\n",
    "        out, _ = self.rnn(embeds, h0)\n",
    "        out = self.fc(out[:, -1, :])\n",
    "        return out"
   ]
  },
  {
   "cell_type": "code",
   "execution_count": null,
   "id": "89e91644",
   "metadata": {},
   "outputs": [],
   "source": [
    "class RNN_Trainer:\n",
    "    '''\n",
    "        Trainer class for training and evaluating PyTorch models\n",
    "        Args:\n",
    "            model (nn.Module): PyTorch model\n",
    "            criterion (nn.Module): Loss function\n",
    "            optimizer (torch.optim): Optimizer for training\n",
    "            device (str): Device to run the model on (default: 'cuda' if available else 'cpu')\n",
    "        Methods:\n",
    "            validate: Evaluate the model on a validation set\n",
    "            train: Train the model\n",
    "            evaluate: Evaluate the model on a test set\n",
    "    '''\n",
    "    def __init__(self, model, criterion, optimizer, device='cuda' if torch.cuda.is_available() else 'cpu'):\n",
    "        self.model = model.to(device)\n",
    "        self.criterion = criterion\n",
    "        self.optimizer = optimizer\n",
    "        self.device = device\n",
    "\n",
    "    def validate(self, val_loader):\n",
    "        self.model.eval()\n",
    "        total_loss, correct, total = 0, 0, 0\n",
    "        all_preds = []\n",
    "        all_labels = []\n",
    "\n",
    "        with torch.no_grad():\n",
    "            for batch in val_loader:\n",
    "                input_ids = batch['input_ids'].to(self.device)\n",
    "                labels = batch['labels'].to(self.device)\n",
    "\n",
    "                outputs = self.model(input_ids)\n",
    "                loss = self.criterion(outputs, labels)\n",
    "                total_loss += loss.item()\n",
    "\n",
    "                _, predicted = torch.max(outputs, 1)\n",
    "                total += labels.size(0)\n",
    "                correct += (predicted == labels).sum().item()\n",
    "\n",
    "                all_preds.extend(predicted.cpu().numpy())\n",
    "                all_labels.extend(labels.cpu().numpy())\n",
    "\n",
    "        avg_loss = total_loss / len(val_loader)\n",
    "        accuracy = correct / total\n",
    "        return avg_loss, accuracy\n",
    "\n",
    "    def train(self, train_loader, val_loader=None, num_epochs=10):\n",
    "        metrics = {'epoch': [], 'train_loss': [], 'train_accuracy': [], 'val_loss': [], 'val_accuracy': []}\n",
    "\n",
    "        for epoch in range(num_epochs):\n",
    "            self.model.train()\n",
    "            total_loss = 0\n",
    "            correct_train = 0\n",
    "            total_train = 0\n",
    "            progress_bar = tqdm(train_loader, desc=f\"Epoch {epoch + 1}/{num_epochs}\")\n",
    "            for batch in progress_bar:\n",
    "                input_ids = batch['input_ids'].to(self.device)\n",
    "                labels = batch['labels'].to(self.device)\n",
    "\n",
    "                # Forward pass\n",
    "                outputs = self.model(input_ids)\n",
    "                loss = self.criterion(outputs, labels)\n",
    "\n",
    "                # Backward pass\n",
    "                self.optimizer.zero_grad()\n",
    "                loss.backward()\n",
    "                self.optimizer.step()\n",
    "\n",
    "                total_loss += loss.item()\n",
    "\n",
    "                # Calculate training accuracy\n",
    "                _, predicted = torch.max(outputs, 1)\n",
    "                total_train += labels.size(0)\n",
    "                correct_train += (predicted == labels).sum().item()\n",
    "\n",
    "                progress_bar.set_postfix(loss=loss.item())\n",
    "\n",
    "            avg_train_loss = total_loss / len(train_loader)\n",
    "            train_accuracy = correct_train / total_train\n",
    "\n",
    "            metrics['epoch'].append(epoch + 1)\n",
    "            metrics['train_loss'].append(avg_train_loss)\n",
    "            metrics['train_accuracy'].append(train_accuracy)\n",
    "            print(f\"Epoch [{epoch + 1}/{num_epochs}], Training Loss: {avg_train_loss:.4f}, Training Accuracy: {train_accuracy:.2%}\")\n",
    "\n",
    "            if val_loader:\n",
    "                val_loss, val_accuracy = self.validate(val_loader)\n",
    "                metrics['val_loss'].append(val_loss)\n",
    "                metrics['val_accuracy'].append(val_accuracy)\n",
    "                print(f\"Epoch [{epoch + 1}/{num_epochs}], Validation Loss: {val_loss:.4f}, Accuracy: {val_accuracy:.2%}\")\n",
    "            else:\n",
    "                metrics['val_loss'].append(None)\n",
    "                metrics['val_accuracy'].append(None)\n",
    "\n",
    "        return metrics\n",
    "\n",
    "\n",
    "    def evaluate(self, test_loader):\n",
    "        self.model.eval()\n",
    "        correct, total = 0, 0\n",
    "        all_preds = []\n",
    "        all_labels = []\n",
    "\n",
    "        with torch.no_grad():\n",
    "            for batch in test_loader:\n",
    "                input_ids = batch['input_ids'].to(self.device)\n",
    "                labels = batch['labels'].to(self.device)\n",
    "\n",
    "                outputs = self.model(input_ids)\n",
    "                \n",
    "                # Calculate accuracy\n",
    "                _, predicted = torch.max(outputs, 1)\n",
    "                total += labels.size(0)\n",
    "                correct += (predicted == labels).sum().item()\n",
    "\n",
    "                all_preds.extend(predicted.cpu().numpy())\n",
    "                all_labels.extend(labels.cpu().numpy())\n",
    "\n",
    "        accuracy = correct / total\n",
    "        cm = confusion_matrix(all_labels, all_preds)\n",
    "        report = classification_report(all_labels, all_preds, target_names=[str(i) for i in range(len(set(all_labels)))])\n",
    "\n",
    "        print(f\"Test Accuracy: {accuracy:.2%}\")\n",
    "        print(\"Confusion Matrix:\")\n",
    "        print(cm)\n",
    "        print(\"Classification Report:\")\n",
    "        print(report)\n",
    "\n",
    "        return accuracy, cm, report\n"
   ]
  },
  {
   "cell_type": "code",
   "execution_count": null,
   "id": "89c424af",
   "metadata": {},
   "outputs": [
    {
     "name": "stderr",
     "output_type": "stream",
     "text": [
      "Epoch 1/10: 100%|██████████| 500/500 [00:21<00:00, 23.79it/s, loss=0.691]\n"
     ]
    },
    {
     "name": "stdout",
     "output_type": "stream",
     "text": [
      "Epoch [1/10], Training Loss: 0.6934, Training Accuracy: 49.84%\n",
      "Epoch [1/10], Validation Loss: 0.6939, Accuracy: 48.65%\n"
     ]
    },
    {
     "name": "stderr",
     "output_type": "stream",
     "text": [
      "Epoch 2/10: 100%|██████████| 500/500 [00:22<00:00, 22.51it/s, loss=0.696]\n"
     ]
    },
    {
     "name": "stdout",
     "output_type": "stream",
     "text": [
      "Epoch [2/10], Training Loss: 0.6935, Training Accuracy: 49.43%\n",
      "Epoch [2/10], Validation Loss: 0.6936, Accuracy: 51.10%\n"
     ]
    },
    {
     "name": "stderr",
     "output_type": "stream",
     "text": [
      "Epoch 3/10: 100%|██████████| 500/500 [00:22<00:00, 22.64it/s, loss=0.688]\n"
     ]
    },
    {
     "name": "stdout",
     "output_type": "stream",
     "text": [
      "Epoch [3/10], Training Loss: 0.6931, Training Accuracy: 49.55%\n",
      "Epoch [3/10], Validation Loss: 0.6935, Accuracy: 51.05%\n"
     ]
    },
    {
     "name": "stderr",
     "output_type": "stream",
     "text": [
      "Epoch 4/10: 100%|██████████| 500/500 [00:22<00:00, 22.38it/s, loss=0.693]\n"
     ]
    },
    {
     "name": "stdout",
     "output_type": "stream",
     "text": [
      "Epoch [4/10], Training Loss: 0.6930, Training Accuracy: 49.75%\n",
      "Epoch [4/10], Validation Loss: 0.6934, Accuracy: 51.28%\n"
     ]
    },
    {
     "name": "stderr",
     "output_type": "stream",
     "text": [
      "Epoch 5/10: 100%|██████████| 500/500 [00:22<00:00, 22.54it/s, loss=0.686]\n"
     ]
    },
    {
     "name": "stdout",
     "output_type": "stream",
     "text": [
      "Epoch [5/10], Training Loss: 0.6931, Training Accuracy: 49.92%\n",
      "Epoch [5/10], Validation Loss: 0.6936, Accuracy: 48.62%\n"
     ]
    },
    {
     "name": "stderr",
     "output_type": "stream",
     "text": [
      "Epoch 6/10: 100%|██████████| 500/500 [00:22<00:00, 22.55it/s, loss=0.698]\n"
     ]
    },
    {
     "name": "stdout",
     "output_type": "stream",
     "text": [
      "Epoch [6/10], Training Loss: 0.6930, Training Accuracy: 50.20%\n",
      "Epoch [6/10], Validation Loss: 0.6936, Accuracy: 51.05%\n"
     ]
    },
    {
     "name": "stderr",
     "output_type": "stream",
     "text": [
      "Epoch 7/10: 100%|██████████| 500/500 [00:21<00:00, 22.95it/s, loss=0.703]\n"
     ]
    },
    {
     "name": "stdout",
     "output_type": "stream",
     "text": [
      "Epoch [7/10], Training Loss: 0.6926, Training Accuracy: 50.26%\n",
      "Epoch [7/10], Validation Loss: 0.6941, Accuracy: 48.52%\n"
     ]
    },
    {
     "name": "stderr",
     "output_type": "stream",
     "text": [
      "Epoch 8/10: 100%|██████████| 500/500 [00:21<00:00, 22.91it/s, loss=0.706]\n"
     ]
    },
    {
     "name": "stdout",
     "output_type": "stream",
     "text": [
      "Epoch [8/10], Training Loss: 0.6926, Training Accuracy: 50.49%\n",
      "Epoch [8/10], Validation Loss: 0.6944, Accuracy: 48.60%\n"
     ]
    },
    {
     "name": "stderr",
     "output_type": "stream",
     "text": [
      "Epoch 9/10: 100%|██████████| 500/500 [00:21<00:00, 22.78it/s, loss=0.687]\n"
     ]
    },
    {
     "name": "stdout",
     "output_type": "stream",
     "text": [
      "Epoch [9/10], Training Loss: 0.6923, Training Accuracy: 50.54%\n",
      "Epoch [9/10], Validation Loss: 0.6936, Accuracy: 51.08%\n"
     ]
    },
    {
     "name": "stderr",
     "output_type": "stream",
     "text": [
      "Epoch 10/10: 100%|██████████| 500/500 [00:21<00:00, 22.95it/s, loss=0.689]\n"
     ]
    },
    {
     "name": "stdout",
     "output_type": "stream",
     "text": [
      "Epoch [10/10], Training Loss: 0.6924, Training Accuracy: 50.45%\n",
      "Epoch [10/10], Validation Loss: 0.6944, Accuracy: 48.55%\n"
     ]
    }
   ],
   "source": [
    "params = {\n",
    "    'vocab_size': len(vocab),\n",
    "    'embed_size': 64,\n",
    "    'hidden_size': 128,\n",
    "    'output_size': len(set(train_df['polarity'])),\n",
    "    'num_layers': 1,\n",
    "    'pad_idx': vocab.word2idx[\"<pad>\"]\n",
    "}\n",
    "\n",
    "model = RNNModel(**params)\n",
    "criterion = nn.CrossEntropyLoss()\n",
    "optimizer = optim.SGD(model.parameters(), lr=0.01) \n",
    "\n",
    "trainer = RNN_Trainer(model, criterion, optimizer)\n",
    "metrics = trainer.train(train_loader, val_loader, num_epochs=10)"
   ]
  },
  {
   "cell_type": "code",
   "execution_count": 24,
   "id": "7c1efe51",
   "metadata": {},
   "outputs": [
    {
     "data": {
      "image/png": "[encoded data removed]",
      "text/plain": [
       "<Figure size 1200x500 with 2 Axes>"
      ]
     },
     "metadata": {},
     "output_type": "display_data"
    }
   ],
   "source": [
    "plt.figure(figsize=(12, 5))\n",
    "\n",
    "plt.subplot(1, 2, 1)\n",
    "plt.plot(metrics['epoch'], metrics['train_loss'], label='Train Loss')\n",
    "plt.plot(metrics['epoch'], metrics['val_loss'], label='Validation Loss')\n",
    "plt.xlabel('Epoch')\n",
    "plt.ylabel('Loss')\n",
    "plt.title('Training and Validation Loss')\n",
    "plt.legend()\n",
    "\n",
    "plt.subplot(1, 2, 2)\n",
    "plt.plot(metrics['epoch'], metrics['train_accuracy'], label='Train Accuracy')\n",
    "plt.plot(metrics['epoch'], metrics['val_accuracy'], label='Validation Accuracy')\n",
    "plt.xlabel('Epoch')\n",
    "plt.ylabel('Accuracy')\n",
    "plt.title('Training and Validation Accuracy')\n",
    "plt.legend()\n",
    "\n",
    "plt.tight_layout()\n",
    "plt.show()"
   ]
  },
  {
   "cell_type": "code",
   "execution_count": 25,
   "id": "4c4adcb1",
   "metadata": {},
   "outputs": [
    {
     "name": "stdout",
     "output_type": "stream",
     "text": [
      "Test Accuracy: 49.94%\n",
      "Confusion Matrix:\n",
      "[[197355   2645]\n",
      " [197588   2411]]\n",
      "Classification Report:\n",
      "              precision    recall  f1-score   support\n",
      "\n",
      "           0       0.50      0.99      0.66    200000\n",
      "           1       0.48      0.01      0.02    199999\n",
      "\n",
      "    accuracy                           0.50    399999\n",
      "   macro avg       0.49      0.50      0.34    399999\n",
      "weighted avg       0.49      0.50      0.34    399999\n",
      "\n"
     ]
    }
   ],
   "source": [
    "test_accuracy, cm, report = trainer.evaluate(test_loader)"
   ]
  },
  {
   "cell_type": "markdown",
   "id": "7d61128f",
   "metadata": {},
   "source": [
    "maybe data train so small, so we can't get good result. Lets start with another method, before we go we will train model with word2vec and tokenizer "
   ]
  },
  {
   "cell_type": "markdown",
   "id": "d2d0cf9e",
   "metadata": {},
   "source": [
    "### 2. Transformer model"
   ]
  },
  {
   "cell_type": "code",
   "execution_count": 34,
   "id": "05032d7d",
   "metadata": {},
   "outputs": [],
   "source": [
    "#free memory\n",
    "del model\n",
    "del criterion\n",
    "del optimizer"
   ]
  },
  {
   "cell_type": "code",
   "execution_count": 33,
   "id": "f0f760b2",
   "metadata": {},
   "outputs": [],
   "source": [
    "import gc\n",
    "\n",
    "# Call garbage collector\n",
    "gc.collect()\n",
    "\n",
    "# Clear CUDA cache\n",
    "if torch.cuda.is_available():\n",
    "    torch.cuda.empty_cache()"
   ]
  },
  {
   "cell_type": "markdown",
   "id": "50a44ee5",
   "metadata": {},
   "source": [
    "#### Transformer Init"
   ]
  },
  {
   "cell_type": "code",
   "execution_count": 34,
   "id": "c49c6c81",
   "metadata": {},
   "outputs": [],
   "source": [
    "class TransformerClassifier(nn.Module):\n",
    "    def __init__(self, vocab_size, embed_size, num_classes, num_heads, num_layers, hidden_dim, max_len=512):\n",
    "        super(TransformerClassifier, self).__init__()\n",
    "        self.embedding = nn.Embedding(vocab_size, embed_size)\n",
    "        self.positional_encoding = nn.Parameter(torch.randn(1, max_len, embed_size))\n",
    "        self.transformer_encoder = nn.TransformerEncoder(\n",
    "            nn.TransformerEncoderLayer(embed_size, num_heads, hidden_dim), num_layers\n",
    "        )\n",
    "        self.fc = nn.Linear(embed_size, num_classes)\n",
    "    \n",
    "    def forward(self, x):\n",
    "        x = self.embedding(x) + self.positional_encoding[:, :x.size(1)]\n",
    "        x = x.permute(1, 0, 2)\n",
    "        x = self.transformer_encoder(x)\n",
    "        x = x[-1, :, :]\n",
    "        x = self.fc(x)\n",
    "        return x"
   ]
  },
  {
   "cell_type": "markdown",
   "id": "3f4205a8",
   "metadata": {},
   "source": [
    "#### Training"
   ]
  },
  {
   "cell_type": "code",
   "execution_count": 35,
   "id": "9312d4e0",
   "metadata": {},
   "outputs": [],
   "source": [
    "class Transformer_Trainer:\n",
    "    def __init__(self, model, criterion, optimizer, device):\n",
    "        self.model = model.to(device)  # Ensure the model is on the correct device\n",
    "        self.criterion = criterion.to(device)  # Ensure loss function is on the correct device\n",
    "        self.optimizer = optimizer\n",
    "        self.device = device\n",
    "\n",
    "    def validate(self, val_loader):\n",
    "        self.model.eval()  # Set model to evaluation mode\n",
    "        total_loss = 0\n",
    "        correct_val = 0\n",
    "        total_val = 0\n",
    "\n",
    "        with torch.no_grad():  # Disable gradient computation for validation\n",
    "            for batch in val_loader:\n",
    "                input_ids = batch['input_ids'].to(self.device)\n",
    "                labels = batch['labels'].to(self.device)\n",
    "\n",
    "                outputs = self.model(input_ids)\n",
    "                loss = self.criterion(outputs, labels)\n",
    "\n",
    "                total_loss += loss.item()\n",
    "\n",
    "                # Calculate validation accuracy\n",
    "                _, predicted = torch.max(outputs, 1)\n",
    "                total_val += labels.size(0)\n",
    "                correct_val += (predicted == labels).sum().item()\n",
    "\n",
    "        avg_val_loss = total_loss / len(val_loader)\n",
    "        val_accuracy = correct_val / total_val\n",
    "        return avg_val_loss, val_accuracy\n",
    "\n",
    "\n",
    "    def train(self, train_loader, val_loader=None, num_epochs=10):\n",
    "        metrics = {'epoch': [], 'train_loss': [], 'train_accuracy': [], 'val_loss': [], 'val_accuracy': []}\n",
    "\n",
    "        for epoch in range(num_epochs):\n",
    "            self.model.train()\n",
    "            total_loss = 0\n",
    "            correct_train = 0\n",
    "            total_train = 0\n",
    "            progress_bar = tqdm(train_loader, desc=f\"Epoch {epoch + 1}/{num_epochs}\")\n",
    "\n",
    "            for batch in progress_bar:\n",
    "                input_ids = batch['input_ids'].to(self.device)  # Move data to correct device\n",
    "                labels = batch['labels'].to(self.device)\n",
    "\n",
    "                # Forward pass\n",
    "                outputs = self.model(input_ids)\n",
    "                loss = self.criterion(outputs, labels)\n",
    "\n",
    "                # Backward pass\n",
    "                self.optimizer.zero_grad()  # Clear previous gradients\n",
    "                loss.backward()  # Backpropagate the gradients\n",
    "                self.optimizer.step()  # Update model parameters\n",
    "\n",
    "                total_loss += loss.item()\n",
    "\n",
    "                # Calculate training accuracy\n",
    "                _, predicted = torch.max(outputs, 1)\n",
    "                total_train += labels.size(0)\n",
    "                correct_train += (predicted == labels).sum().item()\n",
    "\n",
    "                progress_bar.set_postfix(loss=loss.item())\n",
    "\n",
    "            avg_train_loss = total_loss / len(train_loader)\n",
    "            train_accuracy = correct_train / total_train\n",
    "\n",
    "            metrics['epoch'].append(epoch + 1)\n",
    "            metrics['train_loss'].append(avg_train_loss)\n",
    "            metrics['train_accuracy'].append(train_accuracy)\n",
    "            print(f\"Epoch [{epoch + 1}/{num_epochs}], Training Loss: {avg_train_loss:.4f}, Training Accuracy: {train_accuracy:.2%}\")\n",
    "\n",
    "            if val_loader:\n",
    "                val_loss, val_accuracy = self.validate(val_loader)\n",
    "                metrics['val_loss'].append(val_loss)\n",
    "                metrics['val_accuracy'].append(val_accuracy)\n",
    "                print(f\"Epoch [{epoch + 1}/{num_epochs}], Validation Loss: {val_loss:.4f}, Accuracy: {val_accuracy:.2%}\")\n",
    "            else:\n",
    "                metrics['val_loss'].append(None)\n",
    "                metrics['val_accuracy'].append(None)\n",
    "\n",
    "        return metrics\n",
    "\n",
    "    def evaluate(self, test_loader):\n",
    "        self.model.eval()  # Set model to evaluation mode\n",
    "        correct, total = 0, 0\n",
    "        all_preds = []\n",
    "        all_labels = []\n",
    "\n",
    "        with torch.no_grad():  # Disable gradient computation during testing\n",
    "            for batch in test_loader:\n",
    "                input_ids = batch['input_ids'].to(self.device)  # Move data to device\n",
    "                labels = batch['labels'].to(self.device)\n",
    "\n",
    "                # Forward pass\n",
    "                outputs = self.model(input_ids)\n",
    "\n",
    "                # Get predicted classes\n",
    "                _, predicted = torch.max(outputs, 1)\n",
    "                total += labels.size(0)\n",
    "                correct += (predicted == labels).sum().item()\n",
    "\n",
    "                # Store predictions and labels for confusion matrix\n",
    "                all_preds.extend(predicted.cpu().numpy())\n",
    "                all_labels.extend(labels.cpu().numpy())\n",
    "\n",
    "        # Calculate accuracy\n",
    "        accuracy = correct / total\n",
    "        # Generate confusion matrix and classification report\n",
    "        cm = confusion_matrix(all_labels, all_preds)\n",
    "        report = classification_report(all_labels, all_preds, target_names=[str(i) for i in range(len(set(all_labels)))])\n",
    "\n",
    "        # Print metrics\n",
    "        print(f\"Test Accuracy: {accuracy:.2%}\")\n",
    "        print(\"Confusion Matrix:\")\n",
    "        print(cm)\n",
    "        print(\"Classification Report:\")\n",
    "        print(report)\n",
    "\n",
    "        # Return metrics\n",
    "        return accuracy, cm, report"
   ]
  },
  {
   "cell_type": "code",
   "execution_count": 36,
   "id": "4cf1dec1",
   "metadata": {},
   "outputs": [],
   "source": [
    "from sklearn.model_selection import ParameterGrid\n",
    "\n",
    "param_grid = {\n",
    "    'lr': [0.001, 0.01],\n",
    "    'num_layers': [2, 6],\n",
    "    'embed_size': [64, 128],\n",
    "    'num_heads': [2, 4],\n",
    "}\n",
    "\n",
    "grid = ParameterGrid(param_grid)\n"
   ]
  },
  {
   "cell_type": "code",
   "execution_count": 37,
   "id": "1a995ae3",
   "metadata": {},
   "outputs": [
    {
     "data": {
      "text/plain": [
       "16"
      ]
     },
     "execution_count": 37,
     "metadata": {},
     "output_type": "execute_result"
    }
   ],
   "source": [
    "len(grid)"
   ]
  },
  {
   "cell_type": "code",
   "execution_count": 40,
   "id": "9c04a273",
   "metadata": {},
   "outputs": [
    {
     "data": {
      "text/plain": [
       "'cuda'"
      ]
     },
     "execution_count": 40,
     "metadata": {},
     "output_type": "execute_result"
    }
   ],
   "source": [
    "device = 'cuda' if torch.cuda.is_available() else 'cpu'\n",
    "device"
   ]
  },
  {
   "cell_type": "code",
   "execution_count": null,
   "id": "63a0d63a",
   "metadata": {},
   "outputs": [
    {
     "name": "stderr",
     "output_type": "stream",
     "text": [
      "d:\\Programs\\miniconda\\envs\\sma\\lib\\site-packages\\torch\\nn\\modules\\transformer.py:379: UserWarning: enable_nested_tensor is True, but self.use_nested_tensor is False because encoder_layer.self_attn.batch_first was not True(use batch_first for better inference performance)\n",
      "  warnings.warn(\n",
      "Epoch 1/5: 100%|██████████| 500/500 [00:27<00:00, 18.28it/s, loss=0.699]\n"
     ]
    },
    {
     "name": "stdout",
     "output_type": "stream",
     "text": [
      "Epoch [1/5], Training Loss: 0.7109, Training Accuracy: 50.49%\n",
      "Epoch [1/5], Validation Loss: 0.7020, Accuracy: 51.35%\n"
     ]
    },
    {
     "name": "stderr",
     "output_type": "stream",
     "text": [
      "Epoch 2/5: 100%|██████████| 500/500 [00:27<00:00, 17.96it/s, loss=0.688]\n"
     ]
    },
    {
     "name": "stdout",
     "output_type": "stream",
     "text": [
      "Epoch [2/5], Training Loss: 0.7046, Training Accuracy: 50.76%\n",
      "Epoch [2/5], Validation Loss: 0.6988, Accuracy: 51.35%\n"
     ]
    },
    {
     "name": "stderr",
     "output_type": "stream",
     "text": [
      "Epoch 3/5: 100%|██████████| 500/500 [00:28<00:00, 17.43it/s, loss=0.719]\n"
     ]
    },
    {
     "name": "stdout",
     "output_type": "stream",
     "text": [
      "Epoch [3/5], Training Loss: 0.7014, Training Accuracy: 50.54%\n",
      "Epoch [3/5], Validation Loss: 0.6969, Accuracy: 51.38%\n"
     ]
    },
    {
     "name": "stderr",
     "output_type": "stream",
     "text": [
      "Epoch 4/5: 100%|██████████| 500/500 [00:29<00:00, 17.18it/s, loss=0.677]\n"
     ]
    },
    {
     "name": "stdout",
     "output_type": "stream",
     "text": [
      "Epoch [4/5], Training Loss: 0.6990, Training Accuracy: 51.11%\n",
      "Epoch [4/5], Validation Loss: 0.6959, Accuracy: 51.45%\n"
     ]
    },
    {
     "name": "stderr",
     "output_type": "stream",
     "text": [
      "Epoch 5/5: 100%|██████████| 500/500 [00:29<00:00, 17.14it/s, loss=0.738]\n"
     ]
    },
    {
     "name": "stdout",
     "output_type": "stream",
     "text": [
      "Epoch [5/5], Training Loss: 0.6969, Training Accuracy: 51.61%\n",
      "Epoch [5/5], Validation Loss: 0.6953, Accuracy: 51.75%\n"
     ]
    },
    {
     "name": "stderr",
     "output_type": "stream",
     "text": [
      "d:\\Programs\\miniconda\\envs\\sma\\lib\\site-packages\\torch\\nn\\modules\\transformer.py:379: UserWarning: enable_nested_tensor is True, but self.use_nested_tensor is False because encoder_layer.self_attn.batch_first was not True(use batch_first for better inference performance)\n",
      "  warnings.warn(\n",
      "Epoch 1/5: 100%|██████████| 500/500 [01:08<00:00,  7.31it/s, loss=0.689]\n"
     ]
    },
    {
     "name": "stdout",
     "output_type": "stream",
     "text": [
      "Epoch [1/5], Training Loss: 0.7022, Training Accuracy: 50.19%\n",
      "Epoch [1/5], Validation Loss: 0.6930, Accuracy: 51.78%\n"
     ]
    },
    {
     "name": "stderr",
     "output_type": "stream",
     "text": [
      "Epoch 2/5: 100%|██████████| 500/500 [01:08<00:00,  7.26it/s, loss=0.72] \n"
     ]
    },
    {
     "name": "stdout",
     "output_type": "stream",
     "text": [
      "Epoch [2/5], Training Loss: 0.6965, Training Accuracy: 50.86%\n",
      "Epoch [2/5], Validation Loss: 0.6911, Accuracy: 52.35%\n"
     ]
    },
    {
     "name": "stderr",
     "output_type": "stream",
     "text": [
      "Epoch 3/5: 100%|██████████| 500/500 [01:02<00:00,  8.01it/s, loss=0.671]\n"
     ]
    },
    {
     "name": "stdout",
     "output_type": "stream",
     "text": [
      "Epoch [3/5], Training Loss: 0.6932, Training Accuracy: 52.80%\n",
      "Epoch [3/5], Validation Loss: 0.6906, Accuracy: 53.08%\n"
     ]
    },
    {
     "name": "stderr",
     "output_type": "stream",
     "text": [
      "Epoch 4/5: 100%|██████████| 500/500 [01:06<00:00,  7.52it/s, loss=0.707]\n"
     ]
    },
    {
     "name": "stdout",
     "output_type": "stream",
     "text": [
      "Epoch [4/5], Training Loss: 0.6927, Training Accuracy: 52.58%\n",
      "Epoch [4/5], Validation Loss: 0.6920, Accuracy: 53.25%\n"
     ]
    },
    {
     "name": "stderr",
     "output_type": "stream",
     "text": [
      "Epoch 5/5: 100%|██████████| 500/500 [01:08<00:00,  7.29it/s, loss=0.676]\n"
     ]
    },
    {
     "name": "stdout",
     "output_type": "stream",
     "text": [
      "Epoch [5/5], Training Loss: 0.6918, Training Accuracy: 52.88%\n",
      "Epoch [5/5], Validation Loss: 0.6899, Accuracy: 52.68%\n"
     ]
    },
    {
     "name": "stderr",
     "output_type": "stream",
     "text": [
      "Epoch 1/5: 100%|██████████| 500/500 [00:33<00:00, 14.92it/s, loss=0.685]\n"
     ]
    },
    {
     "name": "stdout",
     "output_type": "stream",
     "text": [
      "Epoch [1/5], Training Loss: 0.7210, Training Accuracy: 50.49%\n",
      "Epoch [1/5], Validation Loss: 0.7144, Accuracy: 50.05%\n"
     ]
    },
    {
     "name": "stderr",
     "output_type": "stream",
     "text": [
      "Epoch 2/5: 100%|██████████| 500/500 [00:31<00:00, 15.70it/s, loss=0.69] \n"
     ]
    },
    {
     "name": "stdout",
     "output_type": "stream",
     "text": [
      "Epoch [2/5], Training Loss: 0.7057, Training Accuracy: 51.02%\n",
      "Epoch [2/5], Validation Loss: 0.7070, Accuracy: 50.18%\n"
     ]
    },
    {
     "name": "stderr",
     "output_type": "stream",
     "text": [
      "Epoch 3/5: 100%|██████████| 500/500 [00:31<00:00, 15.83it/s, loss=0.706]\n"
     ]
    },
    {
     "name": "stdout",
     "output_type": "stream",
     "text": [
      "Epoch [3/5], Training Loss: 0.7010, Training Accuracy: 50.84%\n",
      "Epoch [3/5], Validation Loss: 0.7039, Accuracy: 50.80%\n"
     ]
    },
    {
     "name": "stderr",
     "output_type": "stream",
     "text": [
      "Epoch 4/5: 100%|██████████| 500/500 [00:31<00:00, 16.12it/s, loss=0.722]\n"
     ]
    },
    {
     "name": "stdout",
     "output_type": "stream",
     "text": [
      "Epoch [4/5], Training Loss: 0.7000, Training Accuracy: 51.55%\n",
      "Epoch [4/5], Validation Loss: 0.7008, Accuracy: 51.10%\n"
     ]
    },
    {
     "name": "stderr",
     "output_type": "stream",
     "text": [
      "Epoch 5/5: 100%|██████████| 500/500 [00:30<00:00, 16.20it/s, loss=0.675]\n"
     ]
    },
    {
     "name": "stdout",
     "output_type": "stream",
     "text": [
      "Epoch [5/5], Training Loss: 0.6955, Training Accuracy: 52.82%\n",
      "Epoch [5/5], Validation Loss: 0.6997, Accuracy: 51.10%\n"
     ]
    },
    {
     "name": "stderr",
     "output_type": "stream",
     "text": [
      "Epoch 1/5: 100%|██████████| 500/500 [02:50<00:00,  2.93it/s, loss=0.702]\n"
     ]
    },
    {
     "name": "stdout",
     "output_type": "stream",
     "text": [
      "Epoch [1/5], Training Loss: 0.7001, Training Accuracy: 50.30%\n",
      "Epoch [1/5], Validation Loss: 0.6961, Accuracy: 51.55%\n"
     ]
    },
    {
     "name": "stderr",
     "output_type": "stream",
     "text": [
      "Epoch 2/5: 100%|██████████| 500/500 [02:30<00:00,  3.32it/s, loss=0.689]\n"
     ]
    },
    {
     "name": "stdout",
     "output_type": "stream",
     "text": [
      "Epoch [2/5], Training Loss: 0.6959, Training Accuracy: 50.98%\n",
      "Epoch [2/5], Validation Loss: 0.6941, Accuracy: 50.85%\n"
     ]
    },
    {
     "name": "stderr",
     "output_type": "stream",
     "text": [
      "Epoch 3/5: 100%|██████████| 500/500 [02:19<00:00,  3.58it/s, loss=0.728]\n"
     ]
    },
    {
     "name": "stdout",
     "output_type": "stream",
     "text": [
      "Epoch [3/5], Training Loss: 0.6948, Training Accuracy: 52.12%\n",
      "Epoch [3/5], Validation Loss: 0.6939, Accuracy: 51.95%\n"
     ]
    },
    {
     "name": "stderr",
     "output_type": "stream",
     "text": [
      "Epoch 4/5: 100%|██████████| 500/500 [02:20<00:00,  3.57it/s, loss=0.698]\n"
     ]
    },
    {
     "name": "stdout",
     "output_type": "stream",
     "text": [
      "Epoch [4/5], Training Loss: 0.6936, Training Accuracy: 52.30%\n",
      "Epoch [4/5], Validation Loss: 0.6947, Accuracy: 52.30%\n"
     ]
    },
    {
     "name": "stderr",
     "output_type": "stream",
     "text": [
      "Epoch 5/5:   3%|▎         | 17/500 [00:05<02:21,  3.42it/s, loss=0.719]"
     ]
    }
   ],
   "source": [
    "best_val_accuracy = 0\n",
    "best_params = None\n",
    "criterion = nn.CrossEntropyLoss()\n",
    "for params in grid:\n",
    "    model = TransformerClassifier(\n",
    "        len(vocab), \n",
    "        embed_size=params['embed_size'], \n",
    "        num_classes=len(set(train_df['polarity'])), \n",
    "        num_heads= params['num_heads'],\n",
    "        num_layers=params['num_layers'], \n",
    "        hidden_dim=128\n",
    "    ).to(device)\n",
    "    optimizer = optim.SGD(model.parameters(), lr=params['lr'])\n",
    "    trainer = Transformer_Trainer(model, criterion, optimizer, device)\n",
    "    metrics = trainer.train(train_loader, val_loader, num_epochs=5)\n",
    "    \n",
    "    val_accuracy = metrics['val_accuracy'][-1]\n",
    "    if val_accuracy > best_val_accuracy:\n",
    "        best_val_accuracy = val_accuracy\n",
    "        best_params = params\n",
    "    del model\n",
    "    torch.cuda.empty_cache()\n",
    "\n",
    "\n",
    "print(\"Best Parameters:\", best_params)\n"
   ]
  },
  {
   "cell_type": "code",
   "execution_count": null,
   "id": "c6a4bbca",
   "metadata": {},
   "outputs": [
    {
     "name": "stderr",
     "output_type": "stream",
     "text": [
      "d:\\Programs\\miniconda\\envs\\sma\\lib\\site-packages\\torch\\nn\\modules\\transformer.py:379: UserWarning: enable_nested_tensor is True, but self.use_nested_tensor is False because encoder_layer.self_attn.batch_first was not True(use batch_first for better inference performance)\n",
      "  warnings.warn(\n",
      "Epoch 1/10:   4%|▍         | 22/500 [00:17<05:59,  1.33it/s, loss=0.853]"
     ]
    }
   ],
   "source": [
    "vocab_size = len(vocab)\n",
    "embed_size = 64\n",
    "num_classes = len(set(train_df['polarity']))\n",
    "num_heads = 8\n",
    "num_layers = 4\n",
    "hidden_dim = 128\n",
    "model = TransformerClassifier(vocab_size, embed_size, num_classes, num_heads, num_layers, hidden_dim)\n",
    "criterion = nn.CrossEntropyLoss()\n",
    "optimizer = optim.SGD(model.parameters(), lr=.001)\n",
    "trainer = Transformer_Trainer(model, criterion, optimizer, device)\n",
    "metrics = trainer.train(train_loader, val_loader, num_epochs=10)"
   ]
  },
  {
   "cell_type": "code",
   "execution_count": null,
   "id": "6873e227",
   "metadata": {},
   "outputs": [
    {
     "name": "stderr",
     "output_type": "stream",
     "text": [
      "Epoch 1/10:   0%|          | 0/500 [00:00<?, ?it/s]\n"
     ]
    },
    {
     "ename": "TypeError",
     "evalue": "'SGD' object is not callable",
     "output_type": "error",
     "traceback": [
      "\u001b[1;31m---------------------------------------------------------------------------\u001b[0m",
      "\u001b[1;31mTypeError\u001b[0m                                 Traceback (most recent call last)",
      "Cell \u001b[1;32mIn[26], line 2\u001b[0m\n\u001b[0;32m      1\u001b[0m trainer \u001b[38;5;241m=\u001b[39m Transformer_Trainer(model, criterion, optimizer, device)\n\u001b[1;32m----> 2\u001b[0m metrics \u001b[38;5;241m=\u001b[39m \u001b[43mtrainer\u001b[49m\u001b[38;5;241;43m.\u001b[39;49m\u001b[43mtrain\u001b[49m\u001b[43m(\u001b[49m\u001b[43mtrain_loader\u001b[49m\u001b[43m,\u001b[49m\u001b[43m \u001b[49m\u001b[43mval_loader\u001b[49m\u001b[43m,\u001b[49m\u001b[43m \u001b[49m\u001b[43mnum_epochs\u001b[49m\u001b[38;5;241;43m=\u001b[39;49m\u001b[38;5;241;43m10\u001b[39;49m\u001b[43m)\u001b[49m\n",
      "Cell \u001b[1;32mIn[24], line 26\u001b[0m, in \u001b[0;36mTransformer_Trainer.train\u001b[1;34m(self, train_loader, val_loader, num_epochs)\u001b[0m\n\u001b[0;32m     23\u001b[0m labels \u001b[38;5;241m=\u001b[39m batch[\u001b[38;5;124m'\u001b[39m\u001b[38;5;124mlabels\u001b[39m\u001b[38;5;124m'\u001b[39m]\u001b[38;5;241m.\u001b[39mto(\u001b[38;5;28mself\u001b[39m\u001b[38;5;241m.\u001b[39mdevice)\n\u001b[0;32m     25\u001b[0m outputs \u001b[38;5;241m=\u001b[39m \u001b[38;5;28mself\u001b[39m\u001b[38;5;241m.\u001b[39mmodel(input_ids)\n\u001b[1;32m---> 26\u001b[0m loss \u001b[38;5;241m=\u001b[39m \u001b[38;5;28;43mself\u001b[39;49m\u001b[38;5;241;43m.\u001b[39;49m\u001b[43mcriterion\u001b[49m\u001b[43m(\u001b[49m\u001b[43moutputs\u001b[49m\u001b[43m,\u001b[49m\u001b[43m \u001b[49m\u001b[43mlabels\u001b[49m\u001b[43m)\u001b[49m  \n\u001b[0;32m     28\u001b[0m \u001b[38;5;28mself\u001b[39m\u001b[38;5;241m.\u001b[39moptimizer\u001b[38;5;241m.\u001b[39mzero_grad()  \u001b[38;5;66;03m# Zero gradients\u001b[39;00m\n\u001b[0;32m     29\u001b[0m loss\u001b[38;5;241m.\u001b[39mbackward()  \u001b[38;5;66;03m# Backpropagate\u001b[39;00m\n",
      "\u001b[1;31mTypeError\u001b[0m: 'SGD' object is not callable"
     ]
    }
   ],
   "source": []
  },
  {
   "cell_type": "code",
   "execution_count": null,
   "id": "183f7436",
   "metadata": {},
   "outputs": [],
   "source": []
  }
 ],
 "metadata": {
  "kernelspec": {
   "display_name": "sma",
   "language": "python",
   "name": "python3"
  },
  "language_info": {
   "codemirror_mode": {
    "name": "ipython",
    "version": 3
   },
   "file_extension": ".py",
   "mimetype": "text/x-python",
   "name": "python",
   "nbconvert_exporter": "python",
   "pygments_lexer": "ipython3",
   "version": "3.9.20"
  }
 },
 "nbformat": 4,
 "nbformat_minor": 5
}
